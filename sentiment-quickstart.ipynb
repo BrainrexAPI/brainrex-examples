{
 "cells": [
  {
   "cell_type": "markdown",
   "metadata": {},
   "source": [
    "# Brainrex Crypto Sentiment - Quickstart\n",
    "## We will learn how to install and use the sentiment API library. For python \n",
    "<img src=\"https://s3-eu-west-1.amazonaws.com/brainrex.com/img/products/sentiment-analysis-quickstart-brainrex-api.png\">\n",
    "Investor Sentiment Analysis\n",
    "Audience\n",
    "This tutorial is designed to let you quickly start exploring and developing applications with the BrainrexNatural Language API. \n",
    "\n",
    "This tutorial steps through a Natural Language API application using Python code. The purpose here is not to explain the Python client libraries, but to explain how to make calls to the Natural Language API. Applications in Java and Node.js are essentially similar. Consult the Natural Language API Samples for samples in other languages (including this sample within the tutorial).\n",
    "\n",
    "## Prerequisites\n",
    "In order to run this tutorial you need to do the following:\n",
    "- You've installed the Brainrex Language Client for Python\n",
    "- You have signed up for the Brainrex Free tier.\n",
    "- You have created API keys \n",
    "- Store API keys as enviroment variables.\n",
    "- Basic familiarity with Python programming.\n",
    "- Set up your Python development environment. It is recommended that you have the latest version of Python 3.8.0, pip, and -virtualenv installed on your system.\n"
   ]
  },
  {
   "cell_type": "code",
   "execution_count": 1,
   "metadata": {},
   "outputs": [
    {
     "name": "stdout",
     "output_type": "stream",
     "text": [
      "Collecting git+https://github.com/BrainrexAPI/brainrex-python.git\n",
      "  Cloning https://github.com/BrainrexAPI/brainrex-python.git to /tmp/pip-req-build-kszbowoe\n",
      "Requirement already satisfied (use --upgrade to upgrade): brainrex-client==0.9.0 from git+https://github.com/BrainrexAPI/brainrex-python.git in /home/ga/.local/lib/python3.6/site-packages\n",
      "Requirement already satisfied: certifi>=2017.4.17 in /usr/local/lib/python3.6/dist-packages (from brainrex-client==0.9.0) (2019.9.11)\n",
      "Requirement already satisfied: python-dateutil>=2.1 in /usr/local/lib/python3.6/dist-packages (from brainrex-client==0.9.0) (2.8.0)\n",
      "Requirement already satisfied: six>=1.10 in /usr/local/lib/python3.6/dist-packages (from brainrex-client==0.9.0) (1.12.0)\n",
      "Requirement already satisfied: urllib3>=1.23 in /usr/local/lib/python3.6/dist-packages (from brainrex-client==0.9.0) (1.25.6)\n",
      "Building wheels for collected packages: brainrex-client\n",
      "  Building wheel for brainrex-client (setup.py) ... \u001b[?25ldone\n",
      "\u001b[?25h  Stored in directory: /tmp/pip-ephem-wheel-cache-9t3d65cm/wheels/1b/b6/e0/97ffb2ee55e371187009b6d42ecdaa8e2417e39346a2e19886\n",
      "Successfully built brainrex-client\n",
      "\u001b[33mYou are using pip version 19.0.3, however version 19.3.1 is available.\n",
      "You should consider upgrading via the 'pip install --upgrade pip' command.\u001b[0m\n"
     ]
    }
   ],
   "source": [
    "!pip install --user git+https://github.com/BrainrexAPI/brainrex-python.git"
   ]
  },
  {
   "cell_type": "code",
   "execution_count": 14,
   "metadata": {},
   "outputs": [
    {
     "name": "stdout",
     "output_type": "stream",
     "text": [
      "Exception when calling LanguageApi->language_get_price_sentiment: (403)\n",
      "Reason: Forbidden\n",
      "HTTP response headers: HTTPHeaderDict({'Date': 'Tue, 03 Dec 2019 14:14:30 GMT', 'Content-Type': 'application/json', 'Transfer-Encoding': 'chunked', 'Connection': 'keep-alive', 'Set-Cookie': '__cfduid=d3b731a2464523148888fa741a7593c511575382470; expires=Thu, 02-Jan-20 14:14:30 GMT; path=/; domain=.bitlongs.com; HttpOnly; Secure', 'x-amzn-RequestId': 'e646d6e6-aa4b-4ca4-8db5-c1d08b5a8e03', 'x-amzn-ErrorType': 'ForbiddenException', 'x-amz-apigw-id': 'EIYXAEpEvHcF5IQ=', 'X-Cache': 'Error from cloudfront', 'Via': '1.1 c62f6c9a9fdf2356a904a1b156a05fe1.cloudfront.net (CloudFront)', 'X-Amz-Cf-Pop': 'EWR52-C1', 'X-Amz-Cf-Id': 'CmaxqqM-mVBJ37ZFVmWLeyz4ViyT-8OByAMnTT-ArzCY16SAuDE_rQ==', 'CF-Cache-Status': 'DYNAMIC', 'Expect-CT': 'max-age=604800, report-uri=\"https://report-uri.cloudflare.com/cdn-cgi/beacon/expect-ct\"', 'Server': 'cloudflare', 'CF-RAY': '53f625b5c9abe6ec-EWR'})\n",
      "HTTP response body: {\"message\":\"Forbidden\"}\n",
      "\n",
      "\n",
      "\n"
     ]
    }
   ],
   "source": [
    "### Making your first call quickstart \n",
    "from __future__ import print_function\n",
    "import time\n",
    "import brainrex\n",
    "from brainrex.rest import ApiException\n",
    "from pprint import pprint\n",
    "\n",
    "# To get API keys email hello@brainrex.com and you will recieve 100k free requests for 1 month.\n",
    "# Configure API key authorization: APIKeyHeader\n",
    "configuration = brainrex.Configuration()\n",
    "configuration.api_key['x-api-key'] = 'YOUR_API_KEY_HERE'\n",
    "# Uncomment below to setup prefix (e.g. Bearer) for API key, if needed\n",
    "# configuration.api_key_prefix['x-api-key'] = 'Bearer'\n",
    "\n",
    "# create an instance of the API class\n",
    "api_instance = brainrex.LanguageApi(brainrex.ApiClient(configuration))\n",
    "text = brainrex.Text4(\"bitcoin is the best\") # Text4 | String of text to be analyze for investor sentiment.\n",
    "\n",
    "try:\n",
    "    # Sentiment analysis score using a model trained for buy signals.\n",
    "    api_response = api_instance.language_get_price_sentiment(text)\n",
    "    pprint(api_response)\n",
    "except ApiException as e:\n",
    "    print(\"Exception when calling LanguageApi->language_get_price_sentiment: %s\\n\" % e)\n"
   ]
  },
  {
   "cell_type": "markdown",
   "metadata": {},
   "source": [
    "## Your first call to the General Sentiment API"
   ]
  },
  {
   "cell_type": "code",
   "execution_count": 6,
   "metadata": {},
   "outputs": [
    {
     "name": "stdout",
     "output_type": "stream",
     "text": [
      "'1.0'\n"
     ]
    }
   ],
   "source": [
    "try:\n",
    "    # Sentiment analysis score using a model trained for buy signals.\n",
    "    api_response = api_instance.language_get_general_sentiment(text)\n",
    "    pprint(api_response)\n",
    "except ApiException as e:\n",
    "    print(\"Exception when calling LanguageApi->language_get_price_sentiment: %s\\n\" % e)"
   ]
  },
  {
   "cell_type": "markdown",
   "metadata": {},
   "source": [
    "## Lets download a sample dataset we provide "
   ]
  },
  {
   "cell_type": "code",
   "execution_count": 13,
   "metadata": {},
   "outputs": [
    {
     "name": "stdout",
     "output_type": "stream",
     "text": [
      "Sentence 0 investor score of 0.06774486518400419, general sentiment score 0.0625\n",
      "Sentence 1 investor score of -0.023371146553828354, general sentiment score -0.13888888888888887\n",
      "Sentence 2 investor score of 0.2202054815751009, general sentiment score -0.3\n",
      "Sentence 3 investor score of 0.005077551770428797, general sentiment score 0.0\n",
      "Sentence 4 investor score of -0.1202802390030504, general sentiment score -0.07142857142857142\n",
      "Sentence 5 investor score of 0.08182042959249008, general sentiment score 0.0\n",
      "Sentence 6 investor score of -0.0672810979219844, general sentiment score 0.9375\n",
      "Sentence 7 investor score of -0.4390937165955972, general sentiment score 0.78125\n",
      "Sentence 8 investor score of -0.07173148754480003, general sentiment score 0.05\n",
      "Sentence 9 investor score of -0.0672810979219844, general sentiment score 0.9375\n",
      "Sentence 10 investor score of -0.09217311381363502, general sentiment score 0.0\n",
      "Sentence 11 investor score of 0.07423686072333315, general sentiment score 0.4\n",
      "Sentence 12 investor score of 0.0959109835313977, general sentiment score 0.0\n",
      "Sentence 13 investor score of 0.01639939091686715, general sentiment score 0.0\n",
      "Sentence 14 investor score of 0.041029377738101364, general sentiment score 0.2333333333333333\n",
      "Sentence 15 investor score of 0.12719696183887097, general sentiment score 0.2125\n",
      "Sentence 16 investor score of -0.0817236565404979, general sentiment score 0.0\n",
      "Sentence 17 investor score of -0.0020170821279044794, general sentiment score 0.0\n",
      "Sentence 18 investor score of 0.10108163082088213, general sentiment score 0.078125\n",
      "Sentence 19 investor score of -0.08878438125299469, general sentiment score 0.0\n",
      "Sentence 20 investor score of 0.3226180326565521, general sentiment score 0.0\n",
      "Sentence 21 investor score of -0.09217311381363502, general sentiment score 0.0\n"
     ]
    }
   ],
   "source": [
    "import pandas as pd \n",
    "\n",
    "tweets_dataframe = pd.read_csv('https://s3-eu-west-1.amazonaws.com/brainrex.com/data/sample_text_data.csv')\n",
    "tweetList= tweets_dataframe.Tweet.to_list()\n",
    "tweetList[:5]\n",
    "\n",
    "for index, tweet in enumerate(tweetList[344:366]): # Change the number of posts you want to analyze by changing this values. [start:end]\n",
    "    try:\n",
    "        text = brainrex.Text4(tweet)\n",
    "        investor_score = api_instance.language_get_price_sentiment(text)\n",
    "        sentiment_score = api_instance.language_get_general_sentiment(text)\n",
    "        # TODO add response\n",
    "        print('Sentence {} investor score of {}, general sentiment score {}'.format(index, investor_score, sentiment_score))\n",
    "\n",
    "    except ApiException as e:\n",
    "        print(\"Exception when calling LanguageApi->language_get_price_sentiment: %s\\n\" % e)\n"
   ]
  }
 ],
 "metadata": {
  "kernelspec": {
   "display_name": "Python 3",
   "language": "python",
   "name": "python3"
  },
  "language_info": {
   "codemirror_mode": {
    "name": "ipython",
    "version": 3
   },
   "file_extension": ".py",
   "mimetype": "text/x-python",
   "name": "python",
   "nbconvert_exporter": "python",
   "pygments_lexer": "ipython3",
   "version": "3.6.9"
  }
 },
 "nbformat": 4,
 "nbformat_minor": 4
}
