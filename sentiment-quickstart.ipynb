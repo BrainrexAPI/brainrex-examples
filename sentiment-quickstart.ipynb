{
 "cells": [
  {
   "cell_type": "markdown",
   "metadata": {
    "colab_type": "text",
    "id": "C80B-_6Y_2br"
   },
   "source": [
    "# Brainrex Crypto Sentiment - Quickstart\n",
    "## We will learn how to install and use the sentiment API library. For python \n",
    "\n",
    "\n",
    "\n",
    "<img src=\"https://s3-eu-west-1.amazonaws.com/brainrex.com/img/products/sentiment-analysis-quickstart-brainrex-api.png\">\n",
    "Investor Sentiment Analysis\n",
    "Audience\n",
    "This tutorial is designed to let you quickly start exploring and developing applications with the BrainrexNatural Language API. \n",
    "\n",
    "This tutorial steps through a Natural Language API application using Python code. The purpose here is not to explain the Python client libraries, but to explain how to make calls to the Natural Language API. Applications in Java and Node.js are essentially similar. Consult the Natural Language API Samples for samples in other languages (including this sample within the tutorial).\n",
    "\n",
    "## Prerequisites\n",
    "In order to run this tutorial you need to do the following:\n",
    "- You've installed the Brainrex Language Client for Python\n",
    "- You have signed up for the Brainrex Free tier.\n",
    "- You have created API keys \n",
    "- Store API keys as enviroment variables.\n",
    "- Basic familiarity with Python programming.\n",
    "- Set up your Python development environment. It is recommended that you have the latest version of Python 3.8.0, pip, and -virtualenv installed on your system.\n"
   ]
  },
  {
   "cell_type": "code",
   "execution_count": 1,
   "metadata": {
    "colab": {
     "base_uri": "https://localhost:8080/",
     "height": 258
    },
    "colab_type": "code",
    "id": "38s5WSJJ_2bw",
    "outputId": "2036e3d5-d5e2-4f49-cabe-af901a96f808"
   },
   "outputs": [
    {
     "name": "stdout",
     "output_type": "stream",
     "text": [
      "Requirement already satisfied: brainrex in /home/ga/.local/lib/python3.6/site-packages (1.0.1)\n",
      "Requirement already satisfied: python-dateutil>=2.1 in /usr/local/lib/python3.6/dist-packages (from brainrex) (2.8.0)\n",
      "Requirement already satisfied: certifi>=2017.4.17 in /usr/local/lib/python3.6/dist-packages (from brainrex) (2019.9.11)\n",
      "Requirement already satisfied: six>=1.10 in /usr/local/lib/python3.6/dist-packages (from brainrex) (1.12.0)\n",
      "Requirement already satisfied: urllib3>=1.23 in /usr/local/lib/python3.6/dist-packages (from brainrex) (1.25.6)\n",
      "\u001b[33mYou are using pip version 19.0.3, however version 19.3.1 is available.\n",
      "You should consider upgrading via the 'pip install --upgrade pip' command.\u001b[0m\n"
     ]
    }
   ],
   "source": [
    "!pip install brainrex"
   ]
  },
  {
   "cell_type": "code",
   "execution_count": 10,
   "metadata": {
    "colab": {
     "base_uri": "https://localhost:8080/",
     "height": 34
    },
    "colab_type": "code",
    "id": "GLz1Oc_H_2b6",
    "outputId": "9a9ed01b-c79b-48bc-afa7-59bb2dca8808"
   },
   "outputs": [
    {
     "name": "stdout",
     "output_type": "stream",
     "text": [
      "Exception when calling LanguageApi->language_get_price_sentiment: (403)\n",
      "Reason: Forbidden\n",
      "HTTP response headers: HTTPHeaderDict({'Date': 'Tue, 10 Dec 2019 00:41:47 GMT', 'Content-Type': 'application/json', 'Transfer-Encoding': 'chunked', 'Connection': 'keep-alive', 'Set-Cookie': '__cfduid=d884e3c83e136b8bc8ceb6b8aeb0565f91575938507; expires=Thu, 09-Jan-20 00:41:47 GMT; path=/; domain=.bitlongs.com; HttpOnly; Secure', 'x-amzn-RequestId': '21cd5a66-9187-4f3e-a1af-7d3c0781e47c', 'x-amzn-ErrorType': 'ForbiddenException', 'x-amz-apigw-id': 'Edl32GH_PHcFQfw=', 'X-Cache': 'Error from cloudfront', 'Via': '1.1 64269b4eda1211bca4d40d7ab2177910.cloudfront.net (CloudFront)', 'X-Amz-Cf-Pop': 'EWR53-C1', 'X-Amz-Cf-Id': 'nxBAx1cdzPkCR40GiM9mrlKpa6VEjHzhqU-21SBF9cXN3gH0-h9aNQ==', 'CF-Cache-Status': 'DYNAMIC', 'Expect-CT': 'max-age=604800, report-uri=\"https://report-uri.cloudflare.com/cdn-cgi/beacon/expect-ct\"', 'Server': 'cloudflare', 'CF-RAY': '542b2cd7dfdfe845-EWR'})\n",
      "HTTP response body: {\"message\":\"Forbidden\"}\n",
      "\n",
      "\n",
      "\n"
     ]
    }
   ],
   "source": [
    "### Making your first call quickstart \n",
    "from __future__ import print_function\n",
    "import time\n",
    "import brainrex\n",
    "from brainrex.rest import ApiException\n",
    "from pprint import pprint\n",
    "\n",
    "# Go to console.brainrex.com/signup > APIs > Subcribe to an API > Dashboard > API Key > Copy\n",
    "# Configure API key authorization: APIKeyHeader\n",
    "configuration = brainrex.Configuration()\n",
    "configuration.api_key['x-api-key'] = 'INSERT_YOUR_API_KEY_HERE' # Paste key here\n",
    "\n",
    "# create an instance of the API class\n",
    "api_instance = brainrex.LanguageApi(brainrex.ApiClient(configuration))\n",
    "text = brainrex.Text(\"bitcoin is the best\") # Text | String of text to be analyze for investor sentiment.\n",
    "\n",
    "try:\n",
    "    # Sentiment analysis score using a model trained for buy signals.\n",
    "    api_response = api_instance.language_get_price_sentiment(text)\n",
    "    pprint(api_response)\n",
    "except ApiException as e:\n",
    "    print(\"Exception when calling LanguageApi->language_get_price_sentiment: %s\\n\" % e)\n"
   ]
  },
  {
   "cell_type": "markdown",
   "metadata": {
    "colab_type": "text",
    "id": "cX2RdV07_2cD"
   },
   "source": [
    "## Your first call to the General Sentiment API"
   ]
  },
  {
   "cell_type": "code",
   "execution_count": 11,
   "metadata": {
    "colab": {
     "base_uri": "https://localhost:8080/",
     "height": 34
    },
    "colab_type": "code",
    "id": "gE67nX3l_2cG",
    "outputId": "9cc54311-270b-4d66-ab97-2e65d999f207"
   },
   "outputs": [
    {
     "name": "stdout",
     "output_type": "stream",
     "text": [
      "Exception when calling LanguageApi->language_get_price_sentiment: (403)\n",
      "Reason: Forbidden\n",
      "HTTP response headers: HTTPHeaderDict({'Date': 'Tue, 10 Dec 2019 00:41:49 GMT', 'Content-Type': 'application/json', 'Transfer-Encoding': 'chunked', 'Connection': 'keep-alive', 'Set-Cookie': '__cfduid=d61ab1f2744ec2ca0935b130f336644511575938509; expires=Thu, 09-Jan-20 00:41:49 GMT; path=/; domain=.bitlongs.com; HttpOnly; Secure', 'x-amzn-RequestId': 'fe2278d3-c1e6-43c1-be2f-fec0fa011130', 'x-amzn-ErrorType': 'ForbiddenException', 'x-amz-apigw-id': 'Edl4MEYAPHcFTMQ=', 'X-Cache': 'Error from cloudfront', 'Via': '1.1 19f59f4851bd1754171a506ce0726a08.cloudfront.net (CloudFront)', 'X-Amz-Cf-Pop': 'EWR53-C1', 'X-Amz-Cf-Id': 'NNajVVI_qXL_hOPKtMlTvu0nODmEwIdFcjfXYMvugMSIMNG2CjAyYA==', 'CF-Cache-Status': 'DYNAMIC', 'Expect-CT': 'max-age=604800, report-uri=\"https://report-uri.cloudflare.com/cdn-cgi/beacon/expect-ct\"', 'Server': 'cloudflare', 'CF-RAY': '542b2ce5bad8e845-EWR'})\n",
      "HTTP response body: {\"message\":\"Forbidden\"}\n",
      "\n",
      "\n",
      "\n"
     ]
    }
   ],
   "source": [
    "try:\n",
    "    # Sentiment analysis score using a model trained for buy signals.\n",
    "    api_response = api_instance.language_get_general_sentiment(text)\n",
    "    pprint(api_response)\n",
    "except ApiException as e:\n",
    "    print(\"Exception when calling LanguageApi->language_get_price_sentiment: %s\\n\" % e)"
   ]
  },
  {
   "cell_type": "markdown",
   "metadata": {
    "colab_type": "text",
    "id": "S0ElZhI__2ch"
   },
   "source": [
    "## Lets download a sample dataset we provide "
   ]
  },
  {
   "cell_type": "code",
   "execution_count": 12,
   "metadata": {
    "colab": {
     "base_uri": "https://localhost:8080/",
     "height": 391
    },
    "colab_type": "code",
    "id": "onh-zTrW_2cj",
    "outputId": "bce7a458-b8f6-4fa4-f3b9-9c08ed38bf24"
   },
   "outputs": [
    {
     "name": "stdout",
     "output_type": "stream",
     "text": [
      "Exception when calling LanguageApi->language_get_price_sentiment: (403)\n",
      "Reason: Forbidden\n",
      "HTTP response headers: HTTPHeaderDict({'Date': 'Tue, 10 Dec 2019 00:41:57 GMT', 'Content-Type': 'application/json', 'Transfer-Encoding': 'chunked', 'Connection': 'keep-alive', 'Set-Cookie': '__cfduid=d08e8965fb98fc47787d59c0610672b7f1575938517; expires=Thu, 09-Jan-20 00:41:57 GMT; path=/; domain=.bitlongs.com; HttpOnly; Secure', 'x-amzn-RequestId': '1a4ca4c2-49eb-4b2d-b8c0-0efbc87b57e9', 'x-amzn-ErrorType': 'ForbiddenException', 'x-amz-apigw-id': 'Edl5XFZBPHcFX7w=', 'X-Cache': 'Error from cloudfront', 'Via': '1.1 42d3518040c55e24793897f7f5d5f342.cloudfront.net (CloudFront)', 'X-Amz-Cf-Pop': 'EWR53-C1', 'X-Amz-Cf-Id': 'L-Lx5WfDxG5ahDG0Wz8zvG5bH0mIsZRKZgHAGXiInRkZ2YDs8-1LcQ==', 'CF-Cache-Status': 'DYNAMIC', 'Expect-CT': 'max-age=604800, report-uri=\"https://report-uri.cloudflare.com/cdn-cgi/beacon/expect-ct\"', 'Server': 'cloudflare', 'CF-RAY': '542b2d14eac6e845-EWR'})\n",
      "HTTP response body: {\"message\":\"Forbidden\"}\n",
      "\n",
      "\n",
      "\n",
      "Exception when calling LanguageApi->language_get_price_sentiment: (403)\n",
      "Reason: Forbidden\n",
      "HTTP response headers: HTTPHeaderDict({'Date': 'Tue, 10 Dec 2019 00:41:57 GMT', 'Content-Type': 'application/json', 'Transfer-Encoding': 'chunked', 'Connection': 'keep-alive', 'Set-Cookie': '__cfduid=d08e8965fb98fc47787d59c0610672b7f1575938517; expires=Thu, 09-Jan-20 00:41:57 GMT; path=/; domain=.bitlongs.com; HttpOnly; Secure', 'x-amzn-RequestId': '530016a7-be79-4799-8f70-650c6564d90e', 'x-amzn-ErrorType': 'ForbiddenException', 'x-amz-apigw-id': 'Edl5aG2evHcFS7g=', 'X-Cache': 'Error from cloudfront', 'Via': '1.1 19f59f4851bd1754171a506ce0726a08.cloudfront.net (CloudFront)', 'X-Amz-Cf-Pop': 'EWR53-C1', 'X-Amz-Cf-Id': 'XSe-gMBWc1COss8XHOOA1VGuprc4kKCqCcrfkHRt_HDA5ChkP28CZA==', 'CF-Cache-Status': 'DYNAMIC', 'Expect-CT': 'max-age=604800, report-uri=\"https://report-uri.cloudflare.com/cdn-cgi/beacon/expect-ct\"', 'Server': 'cloudflare', 'CF-RAY': '542b2d16ae21e845-EWR'})\n",
      "HTTP response body: {\"message\":\"Forbidden\"}\n",
      "\n",
      "\n",
      "\n",
      "Exception when calling LanguageApi->language_get_price_sentiment: (403)\n",
      "Reason: Forbidden\n",
      "HTTP response headers: HTTPHeaderDict({'Date': 'Tue, 10 Dec 2019 00:41:58 GMT', 'Content-Type': 'application/json', 'Transfer-Encoding': 'chunked', 'Connection': 'keep-alive', 'Set-Cookie': '__cfduid=d08e8965fb98fc47787d59c0610672b7f1575938517; expires=Thu, 09-Jan-20 00:41:57 GMT; path=/; domain=.bitlongs.com; HttpOnly; Secure', 'x-amzn-RequestId': '3d3c6171-8bd0-4c24-808f-cb2e6af5b1d3', 'x-amzn-ErrorType': 'ForbiddenException', 'x-amz-apigw-id': 'Edl5dERQvHcF_Kw=', 'X-Cache': 'Error from cloudfront', 'Via': '1.1 64269b4eda1211bca4d40d7ab2177910.cloudfront.net (CloudFront)', 'X-Amz-Cf-Pop': 'EWR53-C1', 'X-Amz-Cf-Id': '3G5o4fJfhKfbrRHOrkGadvcpuWIMU-_BnKBHUJ6rg7a-mdH53J2-gQ==', 'CF-Cache-Status': 'DYNAMIC', 'Expect-CT': 'max-age=604800, report-uri=\"https://report-uri.cloudflare.com/cdn-cgi/beacon/expect-ct\"', 'Server': 'cloudflare', 'CF-RAY': '542b2d190a2fe845-EWR'})\n",
      "HTTP response body: {\"message\":\"Forbidden\"}\n",
      "\n",
      "\n",
      "\n",
      "Exception when calling LanguageApi->language_get_price_sentiment: (403)\n",
      "Reason: Forbidden\n",
      "HTTP response headers: HTTPHeaderDict({'Date': 'Tue, 10 Dec 2019 00:41:58 GMT', 'Content-Type': 'application/json', 'Transfer-Encoding': 'chunked', 'Connection': 'keep-alive', 'Set-Cookie': '__cfduid=d0835b29580c7f5994ae9164c28531bed1575938518; expires=Thu, 09-Jan-20 00:41:58 GMT; path=/; domain=.bitlongs.com; HttpOnly; Secure', 'x-amzn-RequestId': 'd3e633c6-a068-448c-ab78-5ad372935d27', 'x-amzn-ErrorType': 'ForbiddenException', 'x-amz-apigw-id': 'Edl5hEFbvHcFkxg=', 'X-Cache': 'Error from cloudfront', 'Via': '1.1 42d3518040c55e24793897f7f5d5f342.cloudfront.net (CloudFront)', 'X-Amz-Cf-Pop': 'EWR53-C1', 'X-Amz-Cf-Id': 'vP5nCvMRWnt-9yY8A2ZZhoeQaDxpgS5aU_wpphP8MmE1t-v3nDwtfQ==', 'CF-Cache-Status': 'DYNAMIC', 'Expect-CT': 'max-age=604800, report-uri=\"https://report-uri.cloudflare.com/cdn-cgi/beacon/expect-ct\"', 'Server': 'cloudflare', 'CF-RAY': '542b2d1b9e75e845-EWR'})\n",
      "HTTP response body: {\"message\":\"Forbidden\"}\n",
      "\n",
      "\n",
      "\n",
      "Exception when calling LanguageApi->language_get_price_sentiment: (403)\n",
      "Reason: Forbidden\n",
      "HTTP response headers: HTTPHeaderDict({'Date': 'Tue, 10 Dec 2019 00:41:58 GMT', 'Content-Type': 'application/json', 'Transfer-Encoding': 'chunked', 'Connection': 'keep-alive', 'Set-Cookie': '__cfduid=d0835b29580c7f5994ae9164c28531bed1575938518; expires=Thu, 09-Jan-20 00:41:58 GMT; path=/; domain=.bitlongs.com; HttpOnly; Secure', 'x-amzn-RequestId': 'ce08b4e7-c5e4-4709-85c7-2ff700947a6d', 'x-amzn-ErrorType': 'ForbiddenException', 'x-amz-apigw-id': 'Edl5kHgVvHcFogA=', 'X-Cache': 'Error from cloudfront', 'Via': '1.1 42d3518040c55e24793897f7f5d5f342.cloudfront.net (CloudFront)', 'X-Amz-Cf-Pop': 'EWR53-C1', 'X-Amz-Cf-Id': 'QRuFrgoNy0uVEem9QK5_UBgB1pfvazsGLc5PDX08kVLzU7OPLfxJRw==', 'CF-Cache-Status': 'DYNAMIC', 'Expect-CT': 'max-age=604800, report-uri=\"https://report-uri.cloudflare.com/cdn-cgi/beacon/expect-ct\"', 'Server': 'cloudflare', 'CF-RAY': '542b2d1cf8c9e845-EWR'})\n",
      "HTTP response body: {\"message\":\"Forbidden\"}\n",
      "\n",
      "\n",
      "\n",
      "Exception when calling LanguageApi->language_get_price_sentiment: (403)\n",
      "Reason: Forbidden\n",
      "HTTP response headers: HTTPHeaderDict({'Date': 'Tue, 10 Dec 2019 00:41:59 GMT', 'Content-Type': 'application/json', 'Transfer-Encoding': 'chunked', 'Connection': 'keep-alive', 'Set-Cookie': '__cfduid=d0835b29580c7f5994ae9164c28531bed1575938518; expires=Thu, 09-Jan-20 00:41:58 GMT; path=/; domain=.bitlongs.com; HttpOnly; Secure', 'x-amzn-RequestId': 'aa87a163-f150-4a09-9423-3b799c37e658', 'x-amzn-ErrorType': 'ForbiddenException', 'x-amz-apigw-id': 'Edl5nFZcPHcFj4Q=', 'X-Cache': 'Error from cloudfront', 'Via': '1.1 6840113c714f694919508fbd89b7f29d.cloudfront.net (CloudFront)', 'X-Amz-Cf-Pop': 'EWR53-C1', 'X-Amz-Cf-Id': 'yO4uJqD9m-9qOlBqHni-6fEYKunJ9PJWMFIrLsU5QtYjBiBdS6sNNw==', 'CF-Cache-Status': 'DYNAMIC', 'Expect-CT': 'max-age=604800, report-uri=\"https://report-uri.cloudflare.com/cdn-cgi/beacon/expect-ct\"', 'Server': 'cloudflare', 'CF-RAY': '542b2d1f2d17e845-EWR'})\n",
      "HTTP response body: {\"message\":\"Forbidden\"}\n",
      "\n",
      "\n",
      "\n",
      "Exception when calling LanguageApi->language_get_price_sentiment: (403)\n",
      "Reason: Forbidden\n",
      "HTTP response headers: HTTPHeaderDict({'Date': 'Tue, 10 Dec 2019 00:41:59 GMT', 'Content-Type': 'application/json', 'Transfer-Encoding': 'chunked', 'Connection': 'keep-alive', 'Set-Cookie': '__cfduid=d3ef83a4ccea46e7228a259d310d431eb1575938519; expires=Thu, 09-Jan-20 00:41:59 GMT; path=/; domain=.bitlongs.com; HttpOnly; Secure', 'x-amzn-RequestId': 'b2430f0c-abcc-487e-a9ec-598e6b391d3a', 'x-amzn-ErrorType': 'ForbiddenException', 'x-amz-apigw-id': 'Edl5qFL2PHcFgQw=', 'X-Cache': 'Error from cloudfront', 'Via': '1.1 1654fbe9176188c45d0b894b1eaf5aa0.cloudfront.net (CloudFront)', 'X-Amz-Cf-Pop': 'EWR53-C1', 'X-Amz-Cf-Id': 'YMfKdTj2bRfCX1Plo7nlyXNGhNgZn1sH-2LjCqMQFom3euq02VoIlA==', 'CF-Cache-Status': 'DYNAMIC', 'Expect-CT': 'max-age=604800, report-uri=\"https://report-uri.cloudflare.com/cdn-cgi/beacon/expect-ct\"', 'Server': 'cloudflare', 'CF-RAY': '542b2d20c935e845-EWR'})\n",
      "HTTP response body: {\"message\":\"Forbidden\"}\n",
      "\n",
      "\n",
      "\n",
      "Exception when calling LanguageApi->language_get_price_sentiment: (403)\n",
      "Reason: Forbidden\n",
      "HTTP response headers: HTTPHeaderDict({'Date': 'Tue, 10 Dec 2019 00:41:59 GMT', 'Content-Type': 'application/json', 'Transfer-Encoding': 'chunked', 'Connection': 'keep-alive', 'Set-Cookie': '__cfduid=d3ef83a4ccea46e7228a259d310d431eb1575938519; expires=Thu, 09-Jan-20 00:41:59 GMT; path=/; domain=.bitlongs.com; HttpOnly; Secure', 'x-amzn-RequestId': '1c52ab92-add4-4a08-994d-d7a1b7ccd7bf', 'x-amzn-ErrorType': 'ForbiddenException', 'x-amz-apigw-id': 'Edl5uG_vvHcFyDw=', 'X-Cache': 'Error from cloudfront', 'Via': '1.1 19f59f4851bd1754171a506ce0726a08.cloudfront.net (CloudFront)', 'X-Amz-Cf-Pop': 'EWR53-C1', 'X-Amz-Cf-Id': 'NyxXP24BpWT4K-eYhrVF15Ft9EW61pV6_6PnR9MuAIGN54VTqaLqyQ==', 'CF-Cache-Status': 'DYNAMIC', 'Expect-CT': 'max-age=604800, report-uri=\"https://report-uri.cloudflare.com/cdn-cgi/beacon/expect-ct\"', 'Server': 'cloudflare', 'CF-RAY': '542b2d232d75e845-EWR'})\n",
      "HTTP response body: {\"message\":\"Forbidden\"}\n",
      "\n",
      "\n",
      "\n",
      "Exception when calling LanguageApi->language_get_price_sentiment: (403)\n",
      "Reason: Forbidden\n",
      "HTTP response headers: HTTPHeaderDict({'Date': 'Tue, 10 Dec 2019 00:42:00 GMT', 'Content-Type': 'application/json', 'Transfer-Encoding': 'chunked', 'Connection': 'keep-alive', 'Set-Cookie': '__cfduid=d3ef83a4ccea46e7228a259d310d431eb1575938519; expires=Thu, 09-Jan-20 00:41:59 GMT; path=/; domain=.bitlongs.com; HttpOnly; Secure', 'x-amzn-RequestId': '7d397930-76db-48f1-8445-684cc935a1db', 'x-amzn-ErrorType': 'ForbiddenException', 'x-amz-apigw-id': 'Edl5yGsOPHcFkkA=', 'X-Cache': 'Error from cloudfront', 'Via': '1.1 19f59f4851bd1754171a506ce0726a08.cloudfront.net (CloudFront)', 'X-Amz-Cf-Pop': 'EWR53-C1', 'X-Amz-Cf-Id': 'pUf4mR2En0g35ka2lGwKLW5CtjbCPqjDNhae8ZijtHrU1NxNnQAr8A==', 'CF-Cache-Status': 'DYNAMIC', 'Expect-CT': 'max-age=604800, report-uri=\"https://report-uri.cloudflare.com/cdn-cgi/beacon/expect-ct\"', 'Server': 'cloudflare', 'CF-RAY': '542b2d25ea06e845-EWR'})\n",
      "HTTP response body: {\"message\":\"Forbidden\"}\n",
      "\n",
      "\n",
      "\n",
      "Exception when calling LanguageApi->language_get_price_sentiment: (403)\n",
      "Reason: Forbidden\n",
      "HTTP response headers: HTTPHeaderDict({'Date': 'Tue, 10 Dec 2019 00:42:00 GMT', 'Content-Type': 'application/json', 'Transfer-Encoding': 'chunked', 'Connection': 'keep-alive', 'Set-Cookie': '__cfduid=ddb4d1c6b6793f53153c04fb1527406671575938520; expires=Thu, 09-Jan-20 00:42:00 GMT; path=/; domain=.bitlongs.com; HttpOnly; Secure', 'x-amzn-RequestId': '444b2a48-b7b1-4798-9370-785f0b3fcff7', 'x-amzn-ErrorType': 'ForbiddenException', 'x-amz-apigw-id': 'Edl52FTOPHcF53A=', 'X-Cache': 'Error from cloudfront', 'Via': '1.1 6bee7b982f10ef7095c00bdf38581dd3.cloudfront.net (CloudFront)', 'X-Amz-Cf-Pop': 'EWR53-C1', 'X-Amz-Cf-Id': '1ahulZUM821uAY2hLaWjf74tpkebvff-YJ4qjUDStOKzoxcDYyL5OQ==', 'CF-Cache-Status': 'DYNAMIC', 'Expect-CT': 'max-age=604800, report-uri=\"https://report-uri.cloudflare.com/cdn-cgi/beacon/expect-ct\"', 'Server': 'cloudflare', 'CF-RAY': '542b2d285e66e845-EWR'})\n",
      "HTTP response body: {\"message\":\"Forbidden\"}\n",
      "\n",
      "\n",
      "\n",
      "Exception when calling LanguageApi->language_get_price_sentiment: (403)\n",
      "Reason: Forbidden\n",
      "HTTP response headers: HTTPHeaderDict({'Date': 'Tue, 10 Dec 2019 00:42:01 GMT', 'Content-Type': 'application/json', 'Transfer-Encoding': 'chunked', 'Connection': 'keep-alive', 'Set-Cookie': '__cfduid=ddb4d1c6b6793f53153c04fb1527406671575938520; expires=Thu, 09-Jan-20 00:42:00 GMT; path=/; domain=.bitlongs.com; HttpOnly; Secure', 'x-amzn-RequestId': '3bc03349-8a23-440f-978e-c11b2c67d81a', 'x-amzn-ErrorType': 'ForbiddenException', 'x-amz-apigw-id': 'Edl56H55vHcFTEw=', 'X-Cache': 'Error from cloudfront', 'Via': '1.1 42d3518040c55e24793897f7f5d5f342.cloudfront.net (CloudFront)', 'X-Amz-Cf-Pop': 'EWR53-C1', 'X-Amz-Cf-Id': '4IKemiSQVXlAuU76tcsmUl5uW4p05HDDk9HBfQ41KG87sMb-bDV3QA==', 'CF-Cache-Status': 'DYNAMIC', 'Expect-CT': 'max-age=604800, report-uri=\"https://report-uri.cloudflare.com/cdn-cgi/beacon/expect-ct\"', 'Server': 'cloudflare', 'CF-RAY': '542b2d2afadfe845-EWR'})\n",
      "HTTP response body: {\"message\":\"Forbidden\"}\n",
      "\n",
      "\n",
      "\n",
      "Exception when calling LanguageApi->language_get_price_sentiment: (403)\n",
      "Reason: Forbidden\n",
      "HTTP response headers: HTTPHeaderDict({'Date': 'Tue, 10 Dec 2019 00:42:01 GMT', 'Content-Type': 'application/json', 'Transfer-Encoding': 'chunked', 'Connection': 'keep-alive', 'Set-Cookie': '__cfduid=d5728aaf6a44a9fbb3a2cb293d6a154c31575938521; expires=Thu, 09-Jan-20 00:42:01 GMT; path=/; domain=.bitlongs.com; HttpOnly; Secure', 'x-amzn-RequestId': '85c3a21d-393a-4c2c-8a56-35cc8ddcc684', 'x-amzn-ErrorType': 'ForbiddenException', 'x-amz-apigw-id': 'Edl5-E-BvHcF47A=', 'X-Cache': 'Error from cloudfront', 'Via': '1.1 1654fbe9176188c45d0b894b1eaf5aa0.cloudfront.net (CloudFront)', 'X-Amz-Cf-Pop': 'EWR53-C1', 'X-Amz-Cf-Id': 'HR-0erT2VWe3j5H_P8sTFFlZnfJwM9rCarGvIKZrz0AwRrKdYy7y6Q==', 'CF-Cache-Status': 'DYNAMIC', 'Expect-CT': 'max-age=604800, report-uri=\"https://report-uri.cloudflare.com/cdn-cgi/beacon/expect-ct\"', 'Server': 'cloudflare', 'CF-RAY': '542b2d2d8f6ce845-EWR'})\n",
      "HTTP response body: {\"message\":\"Forbidden\"}\n",
      "\n",
      "\n",
      "\n",
      "Exception when calling LanguageApi->language_get_price_sentiment: (403)\n",
      "Reason: Forbidden\n",
      "HTTP response headers: HTTPHeaderDict({'Date': 'Tue, 10 Dec 2019 00:42:01 GMT', 'Content-Type': 'application/json', 'Transfer-Encoding': 'chunked', 'Connection': 'keep-alive', 'Set-Cookie': '__cfduid=d5728aaf6a44a9fbb3a2cb293d6a154c31575938521; expires=Thu, 09-Jan-20 00:42:01 GMT; path=/; domain=.bitlongs.com; HttpOnly; Secure', 'x-amzn-RequestId': '0a65fe7f-8912-4536-af31-4091a7634a60', 'x-amzn-ErrorType': 'ForbiddenException', 'x-amz-apigw-id': 'Edl6CF0AvHcFZwA=', 'X-Cache': 'Error from cloudfront', 'Via': '1.1 64269b4eda1211bca4d40d7ab2177910.cloudfront.net (CloudFront)', 'X-Amz-Cf-Pop': 'EWR53-C1', 'X-Amz-Cf-Id': '9V8KhznVYrY2RshPXC2BSBeDwuQD5_fmnCfAOBAiJzTnnzxarSeY0g==', 'CF-Cache-Status': 'DYNAMIC', 'Expect-CT': 'max-age=604800, report-uri=\"https://report-uri.cloudflare.com/cdn-cgi/beacon/expect-ct\"', 'Server': 'cloudflare', 'CF-RAY': '542b2d301bb2e845-EWR'})\n",
      "HTTP response body: {\"message\":\"Forbidden\"}\n",
      "\n",
      "\n",
      "\n",
      "Exception when calling LanguageApi->language_get_price_sentiment: (403)\n",
      "Reason: Forbidden\n",
      "HTTP response headers: HTTPHeaderDict({'Date': 'Tue, 10 Dec 2019 00:42:02 GMT', 'Content-Type': 'application/json', 'Transfer-Encoding': 'chunked', 'Connection': 'keep-alive', 'Set-Cookie': '__cfduid=d0b88a6157a6ffe3a8b6fdb439dc3ca451575938522; expires=Thu, 09-Jan-20 00:42:02 GMT; path=/; domain=.bitlongs.com; HttpOnly; Secure', 'x-amzn-RequestId': '837e2bb2-3171-4bb6-96b6-2e3f8664db3f', 'x-amzn-ErrorType': 'ForbiddenException', 'x-amz-apigw-id': 'Edl6FHMxvHcFpSA=', 'X-Cache': 'Error from cloudfront', 'Via': '1.1 6840113c714f694919508fbd89b7f29d.cloudfront.net (CloudFront)', 'X-Amz-Cf-Pop': 'EWR53-C1', 'X-Amz-Cf-Id': 'X_rkMi5TMv71hTbN1boEaTdlxM8Uw3xTPAM1vaPjBcwO8JeoyXSecw==', 'CF-Cache-Status': 'DYNAMIC', 'Expect-CT': 'max-age=604800, report-uri=\"https://report-uri.cloudflare.com/cdn-cgi/beacon/expect-ct\"', 'Server': 'cloudflare', 'CF-RAY': '542b2d32a847e845-EWR'})\n",
      "HTTP response body: {\"message\":\"Forbidden\"}\n",
      "\n",
      "\n",
      "\n",
      "Exception when calling LanguageApi->language_get_price_sentiment: (403)\n",
      "Reason: Forbidden\n",
      "HTTP response headers: HTTPHeaderDict({'Date': 'Tue, 10 Dec 2019 00:42:02 GMT', 'Content-Type': 'application/json', 'Transfer-Encoding': 'chunked', 'Connection': 'keep-alive', 'Set-Cookie': '__cfduid=d0b88a6157a6ffe3a8b6fdb439dc3ca451575938522; expires=Thu, 09-Jan-20 00:42:02 GMT; path=/; domain=.bitlongs.com; HttpOnly; Secure', 'x-amzn-RequestId': '03e71bcb-6cf0-45ab-a658-4157d89113be', 'x-amzn-ErrorType': 'ForbiddenException', 'x-amz-apigw-id': 'Edl6HHgpvHcFU_g=', 'X-Cache': 'Error from cloudfront', 'Via': '1.1 42d3518040c55e24793897f7f5d5f342.cloudfront.net (CloudFront)', 'X-Amz-Cf-Pop': 'EWR53-C1', 'X-Amz-Cf-Id': 'e3VL-cCpoNZUeo28s58AlGjPLkLxDeFakIpycZ3CS_kz0ZIt-RqNig==', 'CF-Cache-Status': 'DYNAMIC', 'Expect-CT': 'max-age=604800, report-uri=\"https://report-uri.cloudflare.com/cdn-cgi/beacon/expect-ct\"', 'Server': 'cloudflare', 'CF-RAY': '542b2d334965e845-EWR'})\n",
      "HTTP response body: {\"message\":\"Forbidden\"}\n",
      "\n",
      "\n",
      "\n",
      "Exception when calling LanguageApi->language_get_price_sentiment: (403)\n",
      "Reason: Forbidden\n",
      "HTTP response headers: HTTPHeaderDict({'Date': 'Tue, 10 Dec 2019 00:42:02 GMT', 'Content-Type': 'application/json', 'Transfer-Encoding': 'chunked', 'Connection': 'keep-alive', 'Set-Cookie': '__cfduid=d0b88a6157a6ffe3a8b6fdb439dc3ca451575938522; expires=Thu, 09-Jan-20 00:42:02 GMT; path=/; domain=.bitlongs.com; HttpOnly; Secure', 'x-amzn-RequestId': '2663ef0f-b672-466a-ad38-090ec8e5020f', 'x-amzn-ErrorType': 'ForbiddenException', 'x-amz-apigw-id': 'Edl6KEr3vHcF4xQ=', 'X-Cache': 'Error from cloudfront', 'Via': '1.1 6bee7b982f10ef7095c00bdf38581dd3.cloudfront.net (CloudFront)', 'X-Amz-Cf-Pop': 'EWR53-C1', 'X-Amz-Cf-Id': 'fqF8w0CZXfaKIbrn4_4QRhS9EUTR0IGZdPkZrKAlmnQuCSpUMLd5Rg==', 'CF-Cache-Status': 'DYNAMIC', 'Expect-CT': 'max-age=604800, report-uri=\"https://report-uri.cloudflare.com/cdn-cgi/beacon/expect-ct\"', 'Server': 'cloudflare', 'CF-RAY': '542b2d34bc05e845-EWR'})\n",
      "HTTP response body: {\"message\":\"Forbidden\"}\n",
      "\n",
      "\n",
      "\n",
      "Exception when calling LanguageApi->language_get_price_sentiment: (403)\n",
      "Reason: Forbidden\n",
      "HTTP response headers: HTTPHeaderDict({'Date': 'Tue, 10 Dec 2019 00:42:02 GMT', 'Content-Type': 'application/json', 'Transfer-Encoding': 'chunked', 'Connection': 'keep-alive', 'Set-Cookie': '__cfduid=d0b88a6157a6ffe3a8b6fdb439dc3ca451575938522; expires=Thu, 09-Jan-20 00:42:02 GMT; path=/; domain=.bitlongs.com; HttpOnly; Secure', 'x-amzn-RequestId': 'bb7534ba-2065-4832-bf49-3ea64980d5ef', 'x-amzn-ErrorType': 'ForbiddenException', 'x-amz-apigw-id': 'Edl6NHg1PHcFetA=', 'X-Cache': 'Error from cloudfront', 'Via': '1.1 6840113c714f694919508fbd89b7f29d.cloudfront.net (CloudFront)', 'X-Amz-Cf-Pop': 'EWR53-C1', 'X-Amz-Cf-Id': 'mEJMZNxPg00JXYyI9QZrm7i8w15WsgvpYhf25602x32hUB1S1VtRWw==', 'CF-Cache-Status': 'DYNAMIC', 'Expect-CT': 'max-age=604800, report-uri=\"https://report-uri.cloudflare.com/cdn-cgi/beacon/expect-ct\"', 'Server': 'cloudflare', 'CF-RAY': '542b2d368f8ce845-EWR'})\n",
      "HTTP response body: {\"message\":\"Forbidden\"}\n",
      "\n",
      "\n",
      "\n",
      "Exception when calling LanguageApi->language_get_price_sentiment: (403)\n",
      "Reason: Forbidden\n",
      "HTTP response headers: HTTPHeaderDict({'Date': 'Tue, 10 Dec 2019 00:42:03 GMT', 'Content-Type': 'application/json', 'Transfer-Encoding': 'chunked', 'Connection': 'keep-alive', 'Set-Cookie': '__cfduid=d8c6050e1d226a2b30fc035ec89c8b2ed1575938523; expires=Thu, 09-Jan-20 00:42:03 GMT; path=/; domain=.bitlongs.com; HttpOnly; Secure', 'x-amzn-RequestId': '4823ff67-f630-4357-905e-5ca191d60a6c', 'x-amzn-ErrorType': 'ForbiddenException', 'x-amz-apigw-id': 'Edl6RGuZPHcF8Pw=', 'X-Cache': 'Error from cloudfront', 'Via': '1.1 19f59f4851bd1754171a506ce0726a08.cloudfront.net (CloudFront)', 'X-Amz-Cf-Pop': 'EWR53-C1', 'X-Amz-Cf-Id': '8CkN-zxAPzY4ZBV3gLcDHMHjv7BYzpDhMyrqpKyIyKHqDEKDJOLfOg==', 'CF-Cache-Status': 'DYNAMIC', 'Expect-CT': 'max-age=604800, report-uri=\"https://report-uri.cloudflare.com/cdn-cgi/beacon/expect-ct\"', 'Server': 'cloudflare', 'CF-RAY': '542b2d390c2ae845-EWR'})\n",
      "HTTP response body: {\"message\":\"Forbidden\"}\n",
      "\n",
      "\n",
      "\n",
      "Exception when calling LanguageApi->language_get_price_sentiment: (403)\n",
      "Reason: Forbidden\n",
      "HTTP response headers: HTTPHeaderDict({'Date': 'Tue, 10 Dec 2019 00:42:03 GMT', 'Content-Type': 'application/json', 'Transfer-Encoding': 'chunked', 'Connection': 'keep-alive', 'Set-Cookie': '__cfduid=d8c6050e1d226a2b30fc035ec89c8b2ed1575938523; expires=Thu, 09-Jan-20 00:42:03 GMT; path=/; domain=.bitlongs.com; HttpOnly; Secure', 'x-amzn-RequestId': '85efecfe-a883-4573-8104-2670d4534b25', 'x-amzn-ErrorType': 'ForbiddenException', 'x-amz-apigw-id': 'Edl6VHtFvHcFuEw=', 'X-Cache': 'Error from cloudfront', 'Via': '1.1 6840113c714f694919508fbd89b7f29d.cloudfront.net (CloudFront)', 'X-Amz-Cf-Pop': 'EWR53-C1', 'X-Amz-Cf-Id': 'j7n6dVMyZk0aGXff_4wbEN7HELuyu6w0dtHk8rO3XXuXbZHvC7hPuQ==', 'CF-Cache-Status': 'DYNAMIC', 'Expect-CT': 'max-age=604800, report-uri=\"https://report-uri.cloudflare.com/cdn-cgi/beacon/expect-ct\"', 'Server': 'cloudflare', 'CF-RAY': '542b2d3b9912e845-EWR'})\n",
      "HTTP response body: {\"message\":\"Forbidden\"}\n",
      "\n",
      "\n",
      "\n",
      "Exception when calling LanguageApi->language_get_price_sentiment: (403)\n",
      "Reason: Forbidden\n",
      "HTTP response headers: HTTPHeaderDict({'Date': 'Tue, 10 Dec 2019 00:42:04 GMT', 'Content-Type': 'application/json', 'Transfer-Encoding': 'chunked', 'Connection': 'keep-alive', 'Set-Cookie': '__cfduid=d8c6050e1d226a2b30fc035ec89c8b2ed1575938523; expires=Thu, 09-Jan-20 00:42:03 GMT; path=/; domain=.bitlongs.com; HttpOnly; Secure', 'x-amzn-RequestId': 'fdc373e0-54c4-4337-82be-ffeb4165fca6', 'x-amzn-ErrorType': 'ForbiddenException', 'x-amz-apigw-id': 'Edl6ZG0yvHcF8eQ=', 'X-Cache': 'Error from cloudfront', 'Via': '1.1 6bee7b982f10ef7095c00bdf38581dd3.cloudfront.net (CloudFront)', 'X-Amz-Cf-Pop': 'EWR53-C1', 'X-Amz-Cf-Id': 'uuzXhMe1K2l-M7J-FPIwzA4sqI9Sk4dUZgJggKp4I6Qplk8BN-sflA==', 'CF-Cache-Status': 'DYNAMIC', 'Expect-CT': 'max-age=604800, report-uri=\"https://report-uri.cloudflare.com/cdn-cgi/beacon/expect-ct\"', 'Server': 'cloudflare', 'CF-RAY': '542b2d3d9d32e845-EWR'})\n",
      "HTTP response body: {\"message\":\"Forbidden\"}\n",
      "\n",
      "\n",
      "\n",
      "Exception when calling LanguageApi->language_get_price_sentiment: (403)\n",
      "Reason: Forbidden\n",
      "HTTP response headers: HTTPHeaderDict({'Date': 'Tue, 10 Dec 2019 00:42:04 GMT', 'Content-Type': 'application/json', 'Transfer-Encoding': 'chunked', 'Connection': 'keep-alive', 'Set-Cookie': '__cfduid=da9ac83c36f448a03a12c25a1a4023eff1575938524; expires=Thu, 09-Jan-20 00:42:04 GMT; path=/; domain=.bitlongs.com; HttpOnly; Secure', 'x-amzn-RequestId': '350de5e2-a3f3-41ea-8f76-60a128240dff', 'x-amzn-ErrorType': 'ForbiddenException', 'x-amz-apigw-id': 'Edl6cECHvHcFmew=', 'X-Cache': 'Error from cloudfront', 'Via': '1.1 988ebab315003cc8902437cbdd7de09e.cloudfront.net (CloudFront)', 'X-Amz-Cf-Pop': 'EWR53-C1', 'X-Amz-Cf-Id': 'p1Um2pK_U6aOF32QQC7hlDYqlYRkbHk8Cy0OAb3M5HzMZYQKG_b72A==', 'CF-Cache-Status': 'DYNAMIC', 'Expect-CT': 'max-age=604800, report-uri=\"https://report-uri.cloudflare.com/cdn-cgi/beacon/expect-ct\"', 'Server': 'cloudflare', 'CF-RAY': '542b2d40baf2e845-EWR'})\n",
      "HTTP response body: {\"message\":\"Forbidden\"}\n",
      "\n",
      "\n",
      "\n",
      "Exception when calling LanguageApi->language_get_price_sentiment: (403)\n",
      "Reason: Forbidden\n",
      "HTTP response headers: HTTPHeaderDict({'Date': 'Tue, 10 Dec 2019 00:42:04 GMT', 'Content-Type': 'application/json', 'Transfer-Encoding': 'chunked', 'Connection': 'keep-alive', 'Set-Cookie': '__cfduid=da9ac83c36f448a03a12c25a1a4023eff1575938524; expires=Thu, 09-Jan-20 00:42:04 GMT; path=/; domain=.bitlongs.com; HttpOnly; Secure', 'x-amzn-RequestId': '041471a6-d2b1-4347-b48a-308ebda5c76b', 'x-amzn-ErrorType': 'ForbiddenException', 'x-amz-apigw-id': 'Edl6fE3mvHcFlMQ=', 'X-Cache': 'Error from cloudfront', 'Via': '1.1 64269b4eda1211bca4d40d7ab2177910.cloudfront.net (CloudFront)', 'X-Amz-Cf-Pop': 'EWR53-C1', 'X-Amz-Cf-Id': 'IzpiJnz0MRehUMk3zCkAQ_A_IIIYJttrEa8p_cV9pIYPYMVr__yRRw==', 'CF-Cache-Status': 'DYNAMIC', 'Expect-CT': 'max-age=604800, report-uri=\"https://report-uri.cloudflare.com/cdn-cgi/beacon/expect-ct\"', 'Server': 'cloudflare', 'CF-RAY': '542b2d416c53e845-EWR'})\n",
      "HTTP response body: {\"message\":\"Forbidden\"}\n",
      "\n",
      "\n",
      "\n"
     ]
    }
   ],
   "source": [
    "import pandas as pd \n",
    "\n",
    "tweets_dataframe = pd.read_csv('https://s3-eu-west-1.amazonaws.com/brainrex.com/data/sample_text_data.csv')\n",
    "tweetList= tweets_dataframe.Tweet.to_list()\n",
    "tweetList[:5]\n",
    "\n",
    "for index, tweet in enumerate(tweetList[344:366]): # Change the number of posts you want to analyze by changing this values. [start:end]\n",
    "    try:\n",
    "        text = brainrex.Text(tweet)\n",
    "        investor_score = api_instance.language_get_price_sentiment(text)\n",
    "        sentiment_score = api_instance.language_get_general_sentiment(text)\n",
    "        # TODO add response\n",
    "        print('Sentence {} investor score of {}, general sentiment score {}'.format(index, investor_score, sentiment_score))\n",
    "\n",
    "    except ApiException as e:\n",
    "        print(\"Exception when calling LanguageApi->language_get_price_sentiment: %s\\n\" % e)\n"
   ]
  },
  {
   "cell_type": "code",
   "execution_count": 9,
   "metadata": {},
   "outputs": [
    {
     "data": {
      "text/plain": [
       "<matplotlib.axes._subplots.AxesSubplot at 0x7f1e679cf518>"
      ]
     },
     "execution_count": 9,
     "metadata": {},
     "output_type": "execute_result"
    },
    {
     "data": {
      "image/png": "[encoded data removed]",
      "text/plain": [
       "<Figure size 1440x288 with 1 Axes>"
      ]
     },
     "metadata": {},
     "output_type": "display_data"
    }
   ],
   "source": [
    "%matplotlib inline\n",
    "import matplotlib.pyplot as plt\n",
    "res = []\n",
    "for tweet in tweetList[:30]: # Change the number of posts you want to analyze by changing this values. [start:end]\n",
    "    try:\n",
    "        text = brainrex.Text(tweet)\n",
    "        api_response = api_instance.language_get_price_sentiment(text)\n",
    "        res.append(api_response)\n",
    "    except ApiException as e:\n",
    "        print(\"Exception when calling LanguageApi->language_get_price_sentiment: %s\\n\" % e)\n",
    "# Plot the results from the sentiment scores.\n",
    "series = pd.DataFrame(res)\n",
    "series=series.astype(float)\n",
    "plt.style.use('ggplot')\n",
    "series.plot(figsize=(20,4))"
   ]
  }
 ],
 "metadata": {
  "colab": {
   "name": "sentiment-quickstart.ipynb",
   "provenance": []
  },
  "kernelspec": {
   "display_name": "Python 3",
   "language": "python",
   "name": "python3"
  },
  "language_info": {
   "codemirror_mode": {
    "name": "ipython",
    "version": 3
   },
   "file_extension": ".py",
   "mimetype": "text/x-python",
   "name": "python",
   "nbconvert_exporter": "python",
   "pygments_lexer": "ipython3",
   "version": "3.6.9"
  }
 },
 "nbformat": 4,
 "nbformat_minor": 4
}
