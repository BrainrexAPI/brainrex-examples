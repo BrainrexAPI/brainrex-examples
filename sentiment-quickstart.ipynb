{
  "nbformat": 4,
  "nbformat_minor": 0,
  "metadata": {
    "kernelspec": {
      "display_name": "Python 3",
      "language": "python",
      "name": "python3"
    },
    "language_info": {
      "codemirror_mode": {
        "name": "ipython",
        "version": 3
      },
      "file_extension": ".py",
      "mimetype": "text/x-python",
      "name": "python",
      "nbconvert_exporter": "python",
      "pygments_lexer": "ipython3",
      "version": "3.6.9"
    },
    "colab": {
      "name": "sentiment-quickstart.ipynb",
      "provenance": []
    }
  },
  "cells": [
    {
      "cell_type": "markdown",
      "metadata": {
        "id": "C80B-_6Y_2br",
        "colab_type": "text"
      },
      "source": [
        "# Brainrex Crypto Sentiment - Quickstart\n",
        "## We will learn how to install and use the sentiment API library. For python \n",
        "\n",
        "\n",
        "\n",
        "<img src=\"https://s3-eu-west-1.amazonaws.com/brainrex.com/img/products/sentiment-analysis-quickstart-brainrex-api.png\">\n",
        "Investor Sentiment Analysis\n",
        "Audience\n",
        "This tutorial is designed to let you quickly start exploring and developing applications with the BrainrexNatural Language API. \n",
        "\n",
        "This tutorial steps through a Natural Language API application using Python code. The purpose here is not to explain the Python client libraries, but to explain how to make calls to the Natural Language API. Applications in Java and Node.js are essentially similar. Consult the Natural Language API Samples for samples in other languages (including this sample within the tutorial).\n",
        "\n",
        "## Prerequisites\n",
        "In order to run this tutorial you need to do the following:\n",
        "- You've installed the Brainrex Language Client for Python\n",
        "- You have signed up for the Brainrex Free tier.\n",
        "- You have created API keys \n",
        "- Store API keys as enviroment variables.\n",
        "- Basic familiarity with Python programming.\n",
        "- Set up your Python development environment. It is recommended that you have the latest version of Python 3.8.0, pip, and -virtualenv installed on your system.\n"
      ]
    },
    {
      "cell_type": "code",
      "metadata": {
        "id": "38s5WSJJ_2bw",
        "colab_type": "code",
        "colab": {
          "base_uri": "https://localhost:8080/",
          "height": 258
        },
        "outputId": "2036e3d5-d5e2-4f49-cabe-af901a96f808"
      },
      "source": [
        "!pip install brainrex"
      ],
      "execution_count": 2,
      "outputs": [
        {
          "output_type": "stream",
          "text": [
            "Collecting brainrex\n",
            "  Downloading https://files.pythonhosted.org/packages/a9/47/caf8feef93d026022b1391261fa045e717f4b9a0b89e6910e54b5ce60bf7/brainrex-1.0.1.tar.gz\n",
            "Requirement already satisfied: certifi>=2017.4.17 in /usr/local/lib/python3.6/dist-packages (from brainrex) (2019.9.11)\n",
            "Requirement already satisfied: python-dateutil>=2.1 in /usr/local/lib/python3.6/dist-packages (from brainrex) (2.6.1)\n",
            "Requirement already satisfied: six>=1.10 in /usr/local/lib/python3.6/dist-packages (from brainrex) (1.12.0)\n",
            "Requirement already satisfied: urllib3>=1.23 in /usr/local/lib/python3.6/dist-packages (from brainrex) (1.24.3)\n",
            "Building wheels for collected packages: brainrex\n",
            "  Building wheel for brainrex (setup.py) ... \u001b[?25l\u001b[?25hdone\n",
            "  Created wheel for brainrex: filename=brainrex-1.0.1-cp36-none-any.whl size=56473 sha256=e766a22853402c395c3744094dd3471d2dce6ff2187dfea3b3c15920687007df\n",
            "  Stored in directory: /root/.cache/pip/wheels/71/1a/cf/34b986fb140f8bca67ad16b4a38767f9026ab9db120d69d39b\n",
            "Successfully built brainrex\n",
            "Installing collected packages: brainrex\n",
            "Successfully installed brainrex-1.0.1\n"
          ],
          "name": "stdout"
        }
      ]
    },
    {
      "cell_type": "code",
      "metadata": {
        "id": "GLz1Oc_H_2b6",
        "colab_type": "code",
        "colab": {
          "base_uri": "https://localhost:8080/",
          "height": 34
        },
        "outputId": "9a9ed01b-c79b-48bc-afa7-59bb2dca8808"
      },
      "source": [
        "### Making your first call quickstart \n",
        "from __future__ import print_function\n",
        "import time\n",
        "import brainrex\n",
        "from brainrex.rest import ApiException\n",
        "from pprint import pprint\n",
        "\n",
        "# To get API keys email hello@brainrex.com and you will recieve 100k free requests for 1 month.\n",
        "# Configure API key authorization: APIKeyHeader\n",
        "configuration = brainrex.Configuration()\n",
        "configuration.api_key['x-api-key'] = 'INSERT_YOUR_API_KEY_HERE'\n",
        "# Uncomment below to setup prefix (e.g. Bearer) for API key, if needed\n",
        "# configuration.api_key_prefix['x-api-key'] = 'Bearer'\n",
        "\n",
        "# create an instance of the API class\n",
        "api_instance = brainrex.LanguageApi(brainrex.ApiClient(configuration))\n",
        "text = brainrex.Text(\"bitcoin is the best\") # Text | String of text to be analyze for investor sentiment.\n",
        "\n",
        "try:\n",
        "    # Sentiment analysis score using a model trained for buy signals.\n",
        "    api_response = api_instance.language_get_price_sentiment(text)\n",
        "    pprint(api_response)\n",
        "except ApiException as e:\n",
        "    print(\"Exception when calling LanguageApi->language_get_price_sentiment: %s\\n\" % e)\n"
      ],
      "execution_count": 14,
      "outputs": [
        {
          "output_type": "stream",
          "text": [
            "'0.08454512209485064'\n"
          ],
          "name": "stdout"
        }
      ]
    },
    {
      "cell_type": "code",
      "metadata": {
        "id": "pJpjcwP5BoUc",
        "colab_type": "code",
        "colab": {}
      },
      "source": [
        ""
      ],
      "execution_count": 0,
      "outputs": []
    },
    {
      "cell_type": "markdown",
      "metadata": {
        "id": "cX2RdV07_2cD",
        "colab_type": "text"
      },
      "source": [
        "## Your first call to the General Sentiment API"
      ]
    },
    {
      "cell_type": "code",
      "metadata": {
        "id": "gE67nX3l_2cG",
        "colab_type": "code",
        "colab": {
          "base_uri": "https://localhost:8080/",
          "height": 34
        },
        "outputId": "9cc54311-270b-4d66-ab97-2e65d999f207"
      },
      "source": [
        "try:\n",
        "    # Sentiment analysis score using a model trained for buy signals.\n",
        "    api_response = api_instance.language_get_general_sentiment(text)\n",
        "    pprint(api_response)\n",
        "except ApiException as e:\n",
        "    print(\"Exception when calling LanguageApi->language_get_price_sentiment: %s\\n\" % e)"
      ],
      "execution_count": 15,
      "outputs": [
        {
          "output_type": "stream",
          "text": [
            "'1.0'\n"
          ],
          "name": "stdout"
        }
      ]
    },
    {
      "cell_type": "markdown",
      "metadata": {
        "id": "S0ElZhI__2ch",
        "colab_type": "text"
      },
      "source": [
        "## Lets download a sample dataset we provide "
      ]
    },
    {
      "cell_type": "code",
      "metadata": {
        "id": "onh-zTrW_2cj",
        "colab_type": "code",
        "colab": {
          "base_uri": "https://localhost:8080/",
          "height": 391
        },
        "outputId": "bce7a458-b8f6-4fa4-f3b9-9c08ed38bf24"
      },
      "source": [
        "import pandas as pd \n",
        "\n",
        "tweets_dataframe = pd.read_csv('https://s3-eu-west-1.amazonaws.com/brainrex.com/data/sample_text_data.csv')\n",
        "tweetList= tweets_dataframe.Tweet.to_list()\n",
        "tweetList[:5]\n",
        "\n",
        "for index, tweet in enumerate(tweetList[344:366]): # Change the number of posts you want to analyze by changing this values. [start:end]\n",
        "    try:\n",
        "        text = brainrex.Text(tweet)\n",
        "        investor_score = api_instance.language_get_price_sentiment(text)\n",
        "        sentiment_score = api_instance.language_get_general_sentiment(text)\n",
        "        # TODO add response\n",
        "        print('Sentence {} investor score of {}, general sentiment score {}'.format(index, investor_score, sentiment_score))\n",
        "\n",
        "    except ApiException as e:\n",
        "        print(\"Exception when calling LanguageApi->language_get_price_sentiment: %s\\n\" % e)\n"
      ],
      "execution_count": 17,
      "outputs": [
        {
          "output_type": "stream",
          "text": [
            "Sentence 0 investor score of 0.06774486518400419, general sentiment score 0.0625\n",
            "Sentence 1 investor score of -0.023371146553828354, general sentiment score -0.13888888888888887\n",
            "Sentence 2 investor score of 0.2202054815751009, general sentiment score -0.3\n",
            "Sentence 3 investor score of 0.005077551770428797, general sentiment score 0.0\n",
            "Sentence 4 investor score of -0.1202802390030504, general sentiment score -0.07142857142857142\n",
            "Sentence 5 investor score of 0.08182042959249008, general sentiment score 0.0\n",
            "Sentence 6 investor score of -0.0672810979219844, general sentiment score 0.9375\n",
            "Sentence 7 investor score of -0.4390937165955972, general sentiment score 0.78125\n",
            "Sentence 8 investor score of -0.07173148754480003, general sentiment score 0.05\n",
            "Sentence 9 investor score of -0.0672810979219844, general sentiment score 0.9375\n",
            "Sentence 10 investor score of -0.09217311381363502, general sentiment score 0.0\n",
            "Sentence 11 investor score of 0.07423686072333315, general sentiment score 0.4\n",
            "Sentence 12 investor score of 0.0959109835313977, general sentiment score 0.0\n",
            "Sentence 13 investor score of 0.01639939091686715, general sentiment score 0.0\n",
            "Sentence 14 investor score of 0.041029377738101364, general sentiment score 0.2333333333333333\n",
            "Sentence 15 investor score of 0.12719696183887097, general sentiment score 0.2125\n",
            "Sentence 16 investor score of -0.0817236565404979, general sentiment score 0.0\n",
            "Sentence 17 investor score of -0.0020170821279044794, general sentiment score 0.0\n",
            "Sentence 18 investor score of 0.10108163082088213, general sentiment score 0.078125\n",
            "Sentence 19 investor score of -0.08878438125299469, general sentiment score 0.0\n",
            "Sentence 20 investor score of 0.3226180326565521, general sentiment score 0.0\n",
            "Sentence 21 investor score of -0.09217311381363502, general sentiment score 0.0\n"
          ],
          "name": "stdout"
        }
      ]
    }
  ]
}