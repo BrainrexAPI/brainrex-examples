{
 "cells": [
  {
   "cell_type": "markdown",
   "metadata": {},
   "source": [
    "# Brainrex Crypto Sentiment - Quickstart\n",
    "## We will learn how to install and use the sentiment API library. For python \n",
    "TODO: ADD PICTURE BASED ON SFBW, INVESTORS SENTIMENT QUICKSTART\n",
    "Investor Sentiment Analysis\n",
    "Audience\n",
    "This tutorial is designed to let you quickly start exploring and developing applications with the BrainrexNatural Language API. It is designed \n",
    "\n",
    "This tutorial steps through a Natural Language API application using Python code. The purpose here is not to explain the Python client libraries, but to explain how to make calls to the Natural Language API. Applications in Java and Node.js are essentially similar. Consult the Natural Language API Samples for samples in other languages (including this sample within the tutorial).\n",
    "\n",
    "## Prerequisites\n",
    "In order to run this tutorial you need to do the following:\n",
    "- You've installed the Brainrex Language Client for Python\n",
    "- You have signed up for the Brainrex Free tier.\n",
    "- You have created API keys \n",
    "- Store API keys as enviroment variables.\n",
    "- Basic familiarity with Python programming.\n",
    "- Set up your Python development environment. It is recommended that you have the latest version of Python 3.8.0, pip, and -virtualenv installed on your system.\n"
   ]
  },
  {
   "cell_type": "markdown",
   "metadata": {},
   "source": [
    "## Part 1 - Making first API call and authentication\n",
    "### Importing libraries we need for this tutorial. "
   ]
  },
  {
   "cell_type": "code",
   "execution_count": 1,
   "metadata": {},
   "outputs": [],
   "source": [
    "%matplotlib inline\n",
    "import matplotlib.pyplot as plt\n",
    "from __future__ import print_function\n",
    "from pprint import pprint\n",
    "import time\n",
    "import pandas as pd\n"
   ]
  },
  {
   "cell_type": "markdown",
   "metadata": {},
   "source": [
    "### Let's import the Brainrex API library called crypto_language. \n",
    "If you haven't installed yet.\n",
    "Run the cell bellow. Skip if you have already installed installed"
   ]
  },
  {
   "cell_type": "code",
   "execution_count": 2,
   "metadata": {},
   "outputs": [
    {
     "name": "stdout",
     "output_type": "stream",
     "text": [
      "Collecting git+https://github.com/BrainrexAPI/crypto-language.git\n",
      "  Cloning https://github.com/BrainrexAPI/crypto-language.git to /tmp/pip-req-build-osbh50ed\n",
      "Requirement already satisfied (use --upgrade to upgrade): crypto-language==0.5.4 from git+https://github.com/BrainrexAPI/crypto-language.git in /home/ga/.local/lib/python3.6/site-packages\n",
      "Requirement already satisfied: certifi>=2017.4.17 in /usr/local/lib/python3.6/dist-packages (from crypto-language==0.5.4) (2019.9.11)\n",
      "Requirement already satisfied: python-dateutil>=2.1 in /usr/local/lib/python3.6/dist-packages (from crypto-language==0.5.4) (2.8.0)\n",
      "Requirement already satisfied: six>=1.10 in /usr/local/lib/python3.6/dist-packages (from crypto-language==0.5.4) (1.12.0)\n",
      "Requirement already satisfied: urllib3>=1.23 in /usr/local/lib/python3.6/dist-packages (from crypto-language==0.5.4) (1.25.6)\n",
      "Building wheels for collected packages: crypto-language\n",
      "  Building wheel for crypto-language (setup.py) ... \u001b[?25ldone\n",
      "\u001b[?25h  Stored in directory: /tmp/pip-ephem-wheel-cache-lj4ycy05/wheels/2d/ab/c1/f22d1b1e3dbdbb7be9b3e3b38f817d9168300817c9488299f9\n",
      "Successfully built crypto-language\n",
      "\u001b[33mYou are using pip version 19.0.3, however version 19.3.1 is available.\n",
      "You should consider upgrading via the 'pip install --upgrade pip' command.\u001b[0m\n"
     ]
    }
   ],
   "source": [
    "!pip install --user git+https://github.com/BrainrexAPI/crypto-language.git"
   ]
  },
  {
   "cell_type": "code",
   "execution_count": 3,
   "metadata": {},
   "outputs": [],
   "source": [
    "import crypto_language\n",
    "from crypto_language.rest import ApiException"
   ]
  },
  {
   "cell_type": "markdown",
   "metadata": {},
   "source": [
    "### Let's initilize the SentimentAPIApi client. \n",
    "\n",
    "This object calls our API and authentificates."
   ]
  },
  {
   "cell_type": "code",
   "execution_count": 4,
   "metadata": {},
   "outputs": [],
   "source": [
    "# create an instance of the API class\n",
    "api_instance = crypto_language.SentimentAPIApi()"
   ]
  },
  {
   "cell_type": "markdown",
   "metadata": {},
   "source": [
    "### Introducing the Text object."
   ]
  },
  {
   "cell_type": "code",
   "execution_count": 5,
   "metadata": {},
   "outputs": [],
   "source": [
    "text = crypto_language.Text(\"Bitcoin is not the boring, but incredibly Binance coin is way better\") # Text | String of text to be analyze for investor sentiment."
   ]
  },
  {
   "cell_type": "markdown",
   "metadata": {},
   "source": [
    "### Make your first API call.\n",
    "#### A score from -1 to 1 will output. To see the explanation behind this scores visit brainrex.com/language"
   ]
  },
  {
   "cell_type": "code",
   "execution_count": 6,
   "metadata": {},
   "outputs": [
    {
     "name": "stdout",
     "output_type": "stream",
     "text": [
      "'-0.005499257046504272'\n"
     ]
    }
   ],
   "source": [
    "try:\n",
    "    # Sentiment analysis score using a model trained for buy signals.\n",
    "    api_response = api_instance.language_get_price_sentiment(text)\n",
    "    pprint(api_response)\n",
    "except ApiException as e:\n",
    "    print(\"Exception when calling SentimentAPIApi->language_get_price_sentiment: %s\\n\" % e)"
   ]
  },
  {
   "cell_type": "markdown",
   "metadata": {},
   "source": [
    "## Part 2 - Example 50 k tweets about Bitcoin\n",
    "### Let's import an example dataset we collected for you. This dataset contains 50k tweets with the word Bitcoin on it. "
   ]
  },
  {
   "cell_type": "code",
   "execution_count": 11,
   "metadata": {},
   "outputs": [],
   "source": [
    "tweets_dataframe = pd.read_csv('https://s3-eu-west-1.amazonaws.com/brainrex.com/data/sample_text_data.csv')"
   ]
  },
  {
   "cell_type": "code",
   "execution_count": 8,
   "metadata": {},
   "outputs": [
    {
     "data": {
      "text/plain": [
       "[\"RT @ALXTOKEN: Paul Krugman, Nobel Luddite. I had to tweak the nose of this Bitcoin enemy. He says such foolish things. Here's the link: htt…\",\n",
       " '@lopp @_Kevin_Pham @psycho_sage @naval But @ProfFaustus (dum b a ss) said you know nothing about #Bitcoin ... 😂😂😂 https://t.co/SBAMFQ2Yiy',\n",
       " 'RT @tippereconomy: Another use case for #blockchain and #Tipper. The #TipperEconomy  can unseat Facebook and change everything! ICO Live No…',\n",
       " 'free coins https://t.co/DiuoePJdap',\n",
       " 'RT @payvxofficial: WE are happy to announce that PayVX Presale Phase 1 is now LIVE!\\n\\nSign up --&gt;&gt; https://t.co/dhprzsSxek\\nCurrencies accept…']"
      ]
     },
     "execution_count": 8,
     "metadata": {},
     "output_type": "execute_result"
    }
   ],
   "source": [
    "tweetList= tweets_dataframe.Tweet.to_list()\n",
    "tweetList[:5]"
   ]
  },
  {
   "cell_type": "code",
   "execution_count": 9,
   "metadata": {},
   "outputs": [
    {
     "name": "stdout",
     "output_type": "stream",
     "text": [
      "Sentence 0 score of -0.16506363694828013\n",
      "Sentence 1 score of -0.2075366577134209\n",
      "Sentence 2 score of 0.06376619647336762\n",
      "Sentence 3 score of -0.06335675908702329\n",
      "Sentence 4 score of -0.17968296388069085\n",
      "Sentence 5 score of -0.0672810979219844\n",
      "Sentence 6 score of 0.05973972721866371\n",
      "Sentence 7 score of 0.07427436561194896\n",
      "Sentence 8 score of 0.18759530237947752\n",
      "Sentence 9 score of 0.14893365958216537\n"
     ]
    }
   ],
   "source": [
    "for index, tweet in enumerate(tweetList[0:10]): # Change the number of posts you want to analyze by changing this values. [start:end]\n",
    "    try:\n",
    "        text = crypto_language.Text(tweet)\n",
    "        score = api_instance.language_get_price_sentiment(text)\n",
    "        # TODO add response\n",
    "        print('Sentence {} score of {}'.format(index, score))\n",
    "\n",
    "    except ApiException as e:\n",
    "        print(\"Exception when calling LanguageApi->language_get_price_sentiment: %s\\n\" % e)\n"
   ]
  },
  {
   "cell_type": "markdown",
   "metadata": {},
   "source": [
    "## Let's analyze 500 sentences and graph the results"
   ]
  },
  {
   "cell_type": "code",
   "execution_count": null,
   "metadata": {},
   "outputs": [],
   "source": [
    "res = []\n",
    "for tweet in tweetList[100:200]: # Change the number of posts you want to analyze by changing this values. [start:end]\n",
    "    try:\n",
    "        text = crypto_language.Text(tweet)\n",
    "        api_response = api_instance.language_get_price_sentiment(text)\n",
    "        res.append(api_response)\n",
    "    except ApiException as e:\n",
    "        print(\"Exception when calling LanguageApi->language_get_price_sentiment: %s\\n\" % e)\n",
    "# Plot the results from the sentiment scores.\n",
    "series = pd.DataFrame(res)\n",
    "series=series.astype(float)\n",
    "plt.style.use('ggplot')\n",
    "series.plot(figsize=(20,4))"
   ]
  },
  {
   "cell_type": "markdown",
   "metadata": {},
   "source": [
    "## Next Steps:\n",
    "\n",
    "- Analyze anomalies in this scores using the Anomaly API.\n",
    "- Build a real time.\n",
    "- Use this scores to train a Reinforcement trading bot. \n",
    "\n"
   ]
  }
 ],
 "metadata": {
  "kernelspec": {
   "display_name": "Python 3",
   "language": "python",
   "name": "python3"
  },
  "language_info": {
   "codemirror_mode": {
    "name": "ipython",
    "version": 3
   },
   "file_extension": ".py",
   "mimetype": "text/x-python",
   "name": "python",
   "nbconvert_exporter": "python",
   "pygments_lexer": "ipython3",
   "version": "3.6.9"
  }
 },
 "nbformat": 4,
 "nbformat_minor": 4
}
