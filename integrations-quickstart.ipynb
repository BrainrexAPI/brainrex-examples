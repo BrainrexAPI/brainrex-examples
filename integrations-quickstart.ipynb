{
 "cells": [
  {
   "cell_type": "markdown",
   "metadata": {},
   "source": [
    "# Brainrex Integrations - Quickstart\n",
    "## We will learn how to install and use the brainrex API client for python \n",
    "\n",
    "\n",
    "Investor Sentiment Analysis\n",
    "Audience\n",
    "This tutorial is designed to let you quickly start exploring and developing applications with the BrainrexNatural Language API. \n",
    "\n",
    "This tutorial steps through a Natural Language API application using Python code. The purpose here is not to explain the Python client libraries, but to explain how to make calls to the Natural Language API. Applications in Java and Node.js are essentially similar. Consult the Natural Language API Samples for samples in other languages (including this sample within the tutorial).\n",
    "\n",
    "## Prerequisites\n",
    "In order to run this tutorial you need to do the following:\n",
    "- You've installed the Brainrex Language Client for Python\n",
    "- You have signed up for the Brainrex Free tier.\n",
    "- You have created API keys \n",
    "- Store API keys as enviroment variables.\n",
    "- Basic familiarity with Python programming.\n",
    "- Set up your Python development environment. It is recommended that you have the latest version of Python 3.8.0, pip, and -virtualenv installed on your system.\n"
   ]
  },
  {
   "cell_type": "markdown",
   "metadata": {},
   "source": [
    "## Importing the libraries needed to run this tutorial"
   ]
  },
  {
   "cell_type": "code",
   "execution_count": 1,
   "metadata": {},
   "outputs": [],
   "source": [
    "%matplotlib inline\n",
    "import matplotlib.pyplot as plt\n",
    "from __future__ import print_function\n",
    "import time\n",
    "from pprint import pprint\n",
    "import pandas as pd"
   ]
  },
  {
   "cell_type": "markdown",
   "metadata": {},
   "source": [
    "## If you are running this tutorial in colab or haven't installed the brainrex python library yet. Run the cell bellow."
   ]
  },
  {
   "cell_type": "code",
   "execution_count": 2,
   "metadata": {},
   "outputs": [
    {
     "name": "stdout",
     "output_type": "stream",
     "text": [
      "Requirement already satisfied: brainrex in /home/ga/.local/lib/python3.6/site-packages (1.0.1)\n",
      "Requirement already satisfied: certifi>=2017.4.17 in /usr/local/lib/python3.6/dist-packages (from brainrex) (2019.9.11)\n",
      "Requirement already satisfied: six>=1.10 in /usr/local/lib/python3.6/dist-packages (from brainrex) (1.12.0)\n",
      "Requirement already satisfied: python-dateutil>=2.1 in /usr/local/lib/python3.6/dist-packages (from brainrex) (2.8.0)\n",
      "Requirement already satisfied: urllib3>=1.23 in /usr/local/lib/python3.6/dist-packages (from brainrex) (1.25.6)\n",
      "\u001b[33mYou are using pip version 19.0.3, however version 19.3.1 is available.\n",
      "You should consider upgrading via the 'pip install --upgrade pip' command.\u001b[0m\n"
     ]
    }
   ],
   "source": [
    "!pip install --user brainrex"
   ]
  },
  {
   "cell_type": "markdown",
   "metadata": {},
   "source": [
    "# Import the brainrex python client "
   ]
  },
  {
   "cell_type": "code",
   "execution_count": 3,
   "metadata": {},
   "outputs": [],
   "source": [
    "import brainrex\n",
    "from brainrex.rest import ApiException"
   ]
  },
  {
   "cell_type": "markdown",
   "metadata": {},
   "source": [
    "## Copy and paste the API key from console.brainrex.com/dashboard.\n",
    "- Make sure you have subscribed to the Integrations service in console.brainrex.com/apis > Click Subscribe"
   ]
  },
  {
   "cell_type": "code",
   "execution_count": 8,
   "metadata": {},
   "outputs": [],
   "source": [
    "# Configure API key authorization. To get API keys email hello@brainrex.com\n",
    "configuration = brainrex.Configuration()\n",
    "configuration.api_key['x-api-key'] = 'INSERT_YOUR_API_KEY_HERE'"
   ]
  },
  {
   "cell_type": "markdown",
   "metadata": {},
   "source": [
    "## Let's instanciate the IngetrationsApi Instance."
   ]
  },
  {
   "cell_type": "code",
   "execution_count": 5,
   "metadata": {},
   "outputs": [],
   "source": [
    "integrations_instance = brainrex.IntegrationsApi(brainrex.ApiClient(configuration))\n",
    "\n",
    "# Inizitialize The CandleRequest object full documentation \n",
    "text = brainrex.CandleRequest(base_trading_symbol='BTC', exchange='coinbasepro', interval='1d', quote_trading_symbol='USD') # CandleRequest | Exchange, trading pair and date rage for data\n",
    "try:\n",
    "    # Downloads candle format market data\n",
    "    api_response = integrations_instance.crypto_get_candle_data(text)\n",
    "except ApiException as e:\n",
    "    print(\"Exception when calling IntegrationsApi->crypto_get_candle_data: %s\\n\" % e)"
   ]
  },
  {
   "cell_type": "code",
   "execution_count": 6,
   "metadata": {},
   "outputs": [
    {
     "data": {
      "text/html": [
       "<div>\n",
       "<style scoped>\n",
       "    .dataframe tbody tr th:only-of-type {\n",
       "        vertical-align: middle;\n",
       "    }\n",
       "\n",
       "    .dataframe tbody tr th {\n",
       "        vertical-align: top;\n",
       "    }\n",
       "\n",
       "    .dataframe thead th {\n",
       "        text-align: right;\n",
       "    }\n",
       "</style>\n",
       "<table border=\"1\" class=\"dataframe\">\n",
       "  <thead>\n",
       "    <tr style=\"text-align: right;\">\n",
       "      <th></th>\n",
       "      <th>btcVolume</th>\n",
       "      <th>close</th>\n",
       "      <th>high</th>\n",
       "      <th>low</th>\n",
       "      <th>open</th>\n",
       "      <th>quoteVolume</th>\n",
       "      <th>time</th>\n",
       "      <th>usdVolume</th>\n",
       "      <th>volume</th>\n",
       "    </tr>\n",
       "  </thead>\n",
       "  <tbody>\n",
       "    <tr>\n",
       "      <td>0</td>\n",
       "      <td>12598.44</td>\n",
       "      <td>7727.2700000000000000</td>\n",
       "      <td>8173.5700000000000000</td>\n",
       "      <td>7629.4800000000000000</td>\n",
       "      <td>8170.0000000000000000</td>\n",
       "      <td>0.0</td>\n",
       "      <td>2018-07-31T00:00:00.000Z</td>\n",
       "      <td>0.0</td>\n",
       "      <td>12598.4400000000000000</td>\n",
       "    </tr>\n",
       "    <tr>\n",
       "      <td>1</td>\n",
       "      <td>11853.39</td>\n",
       "      <td>7603.9900000000000000</td>\n",
       "      <td>7750.0000000000000000</td>\n",
       "      <td>7437.0000000000000000</td>\n",
       "      <td>7727.2800000000000000</td>\n",
       "      <td>0.0</td>\n",
       "      <td>2018-08-01T00:00:00.000Z</td>\n",
       "      <td>0.0</td>\n",
       "      <td>11853.3900000000000000</td>\n",
       "    </tr>\n",
       "    <tr>\n",
       "      <td>2</td>\n",
       "      <td>6917.38</td>\n",
       "      <td>7533.9200000000000000</td>\n",
       "      <td>7707.5400000000000000</td>\n",
       "      <td>7462.0000000000000000</td>\n",
       "      <td>7603.9900000000000000</td>\n",
       "      <td>0.0</td>\n",
       "      <td>2018-08-02T00:00:00.000Z</td>\n",
       "      <td>0.0</td>\n",
       "      <td>6917.3800000000000000</td>\n",
       "    </tr>\n",
       "    <tr>\n",
       "      <td>3</td>\n",
       "      <td>11084.71</td>\n",
       "      <td>7414.0800000000000000</td>\n",
       "      <td>7538.5300000000000000</td>\n",
       "      <td>7285.0000000000000000</td>\n",
       "      <td>7533.9200000000000000</td>\n",
       "      <td>0.0</td>\n",
       "      <td>2018-08-03T00:00:00.000Z</td>\n",
       "      <td>0.0</td>\n",
       "      <td>11084.7100000000000000</td>\n",
       "    </tr>\n",
       "    <tr>\n",
       "      <td>4</td>\n",
       "      <td>9933.75</td>\n",
       "      <td>7005.0000000000000000</td>\n",
       "      <td>7495.0000000000000000</td>\n",
       "      <td>6940.0000000000000000</td>\n",
       "      <td>7414.0800000000000000</td>\n",
       "      <td>0.0</td>\n",
       "      <td>2018-08-04T00:00:00.000Z</td>\n",
       "      <td>0.0</td>\n",
       "      <td>9933.7500000000000000</td>\n",
       "    </tr>\n",
       "  </tbody>\n",
       "</table>\n",
       "</div>"
      ],
      "text/plain": [
       "   btcVolume                  close                   high  \\\n",
       "0   12598.44  7727.2700000000000000  8173.5700000000000000   \n",
       "1   11853.39  7603.9900000000000000  7750.0000000000000000   \n",
       "2    6917.38  7533.9200000000000000  7707.5400000000000000   \n",
       "3   11084.71  7414.0800000000000000  7538.5300000000000000   \n",
       "4    9933.75  7005.0000000000000000  7495.0000000000000000   \n",
       "\n",
       "                     low                   open  quoteVolume  \\\n",
       "0  7629.4800000000000000  8170.0000000000000000          0.0   \n",
       "1  7437.0000000000000000  7727.2800000000000000          0.0   \n",
       "2  7462.0000000000000000  7603.9900000000000000          0.0   \n",
       "3  7285.0000000000000000  7533.9200000000000000          0.0   \n",
       "4  6940.0000000000000000  7414.0800000000000000          0.0   \n",
       "\n",
       "                       time  usdVolume                  volume  \n",
       "0  2018-07-31T00:00:00.000Z        0.0  12598.4400000000000000  \n",
       "1  2018-08-01T00:00:00.000Z        0.0  11853.3900000000000000  \n",
       "2  2018-08-02T00:00:00.000Z        0.0   6917.3800000000000000  \n",
       "3  2018-08-03T00:00:00.000Z        0.0  11084.7100000000000000  \n",
       "4  2018-08-04T00:00:00.000Z        0.0   9933.7500000000000000  "
      ]
     },
     "execution_count": 6,
     "metadata": {},
     "output_type": "execute_result"
    }
   ],
   "source": [
    "candle_dataframe = pd.DataFrame(api_response)\n",
    "candle_dataframe.head()"
   ]
  },
  {
   "cell_type": "code",
   "execution_count": 7,
   "metadata": {},
   "outputs": [
    {
     "data": {
      "text/plain": [
       "<matplotlib.axes._subplots.AxesSubplot at 0x7fe31139d860>"
      ]
     },
     "execution_count": 7,
     "metadata": {},
     "output_type": "execute_result"
    },
    {
     "data": {
      "image/png": "[encoded data removed]",
      "text/plain": [
       "<Figure size 432x288 with 1 Axes>"
      ]
     },
     "metadata": {},
     "output_type": "display_data"
    }
   ],
   "source": [
    "candle_dataframe.plot()"
   ]
  },
  {
   "cell_type": "code",
   "execution_count": null,
   "metadata": {},
   "outputs": [],
   "source": []
  }
 ],
 "metadata": {
  "kernelspec": {
   "display_name": "Python 3",
   "language": "python",
   "name": "python3"
  },
  "language_info": {
   "codemirror_mode": {
    "name": "ipython",
    "version": 3
   },
   "file_extension": ".py",
   "mimetype": "text/x-python",
   "name": "python",
   "nbconvert_exporter": "python",
   "pygments_lexer": "ipython3",
   "version": "3.6.9"
  }
 },
 "nbformat": 4,
 "nbformat_minor": 4
}
