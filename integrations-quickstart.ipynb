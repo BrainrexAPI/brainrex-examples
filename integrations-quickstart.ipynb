{
 "cells": [
  {
   "cell_type": "markdown",
   "metadata": {},
   "source": [
    "# Brainrex Integrations - Quickstart\n",
    "## We will learn how to install and use the brainrex API client for python \n",
    "\n",
    "\n",
    "Investor Sentiment Analysis\n",
    "Audience\n",
    "This tutorial is designed to let you quickly start exploring and developing applications with the BrainrexNatural Language API. \n",
    "\n",
    "This tutorial steps through a Natural Language API application using Python code. The purpose here is not to explain the Python client libraries, but to explain how to make calls to the Natural Language API. Applications in Java and Node.js are essentially similar. Consult the Natural Language API Samples for samples in other languages (including this sample within the tutorial).\n",
    "\n",
    "## Prerequisites\n",
    "In order to run this tutorial you need to do the following:\n",
    "- You've installed the Brainrex Language Client for Python\n",
    "- You have signed up for the Brainrex Free tier.\n",
    "- You have created API keys \n",
    "- Store API keys as enviroment variables.\n",
    "- Basic familiarity with Python programming.\n",
    "- Set up your Python development environment. It is recommended that you have the latest version of Python 3.8.0, pip, and -virtualenv installed on your system.\n"
   ]
  },
  {
   "cell_type": "markdown",
   "metadata": {},
   "source": [
    "## Importing the libraries needed to run this tutorial"
   ]
  },
  {
   "cell_type": "code",
   "execution_count": 13,
   "metadata": {},
   "outputs": [],
   "source": [
    "%matplotlib inline\n",
    "import matplotlib.pyplot as plt\n",
    "from __future__ import print_function\n",
    "import time\n",
    "from pprint import pprint\n",
    "import pandas as pd"
   ]
  },
  {
   "cell_type": "markdown",
   "metadata": {},
   "source": [
    "## If you are running this tutorial in colab or haven't installed the brainrex python library yet. Run the cell bellow."
   ]
  },
  {
   "cell_type": "code",
   "execution_count": null,
   "metadata": {},
   "outputs": [],
   "source": [
    "!pip install --user brainrex"
   ]
  },
  {
   "cell_type": "markdown",
   "metadata": {},
   "source": [
    "# Import the brainrex python client "
   ]
  },
  {
   "cell_type": "code",
   "execution_count": 3,
   "metadata": {},
   "outputs": [],
   "source": [
    "import brainrex\n",
    "from brainrex.rest import ApiException"
   ]
  },
  {
   "cell_type": "markdown",
   "metadata": {},
   "source": [
    "## Copy and paste the API key from console.brainrex.com/dashboard.\n",
    "- Make sure you have subscribed to the Integrations service in console.brainrex.com/apis > Click Subscribe"
   ]
  },
  {
   "cell_type": "code",
   "execution_count": 4,
   "metadata": {},
   "outputs": [],
   "source": [
    "# Configure API key authorization. To get API keys email hello@brainrex.com\n",
    "configuration = brainrex.Configuration()\n",
    "configuration.api_key['x-api-key'] = 'INSERT_YOUR_API_KEY_HERE'"
   ]
  },
  {
   "cell_type": "markdown",
   "metadata": {},
   "source": [
    "## Let's instanciate the IngetrationsApi Instance."
   ]
  },
  {
   "cell_type": "code",
   "execution_count": 6,
   "metadata": {},
   "outputs": [
    {
     "name": "stdout",
     "output_type": "stream",
     "text": [
      "Exception when calling IntegrationsApi->crypto_get_candle_data: (403)\n",
      "Reason: Forbidden\n",
      "HTTP response headers: HTTPHeaderDict({'Date': 'Sun, 08 Dec 2019 14:05:52 GMT', 'Content-Type': 'application/json', 'Transfer-Encoding': 'chunked', 'Connection': 'keep-alive', 'Set-Cookie': '__cfduid=d24808d9bf2e6115bac6a7d8ab9e17e561575813951; expires=Tue, 07-Jan-20 14:05:51 GMT; path=/; domain=.bitlongs.com; HttpOnly; Secure', 'x-amzn-RequestId': '51dc0cf6-d77a-4fd6-9a98-0ecd56634d08', 'x-amzn-ErrorType': 'ForbiddenException', 'x-amz-apigw-id': 'EY1yCGj1PHcF22A=', 'X-Cache': 'Error from cloudfront', 'Via': '1.1 fc07a3272275b95dac262d5ece1fcdf9.cloudfront.net (CloudFront)', 'X-Amz-Cf-Pop': 'EWR52-C4', 'X-Amz-Cf-Id': 'BMc1D-FR5Tf7FxBN1E5PniVrOonLEPzd7atdWgII5GoqM-fa-Epv2w==', 'CF-Cache-Status': 'DYNAMIC', 'Expect-CT': 'max-age=604800, report-uri=\"https://report-uri.cloudflare.com/cdn-cgi/beacon/expect-ct\"', 'Server': 'cloudflare', 'CF-RAY': '541f4beffc08e6e4-EWR'})\n",
      "HTTP response body: {\"message\":\"Forbidden\"}\n",
      "\n",
      "\n",
      "\n"
     ]
    }
   ],
   "source": [
    "integrations_instance = brainrex.IntegrationsApi(brainrex.ApiClient(configuration))\n",
    "\n",
    "# Inizitialize The CandleRequest object full documentation \n",
    "text = brainrex.CandleRequest(base_trading_symbol='BTC', exchange='coinbasepro', interval='1d', quote_trading_symbol='USD') # CandleRequest | Exchange, trading pair and date rage for data\n",
    "try:\n",
    "    # Downloads candle format market data\n",
    "    api_response = integrations_instance.crypto_get_candle_data(text)\n",
    "except ApiException as e:\n",
    "    print(\"Exception when calling IntegrationsApi->crypto_get_candle_data: %s\\n\" % e)"
   ]
  },
  {
   "cell_type": "code",
   "execution_count": 7,
   "metadata": {},
   "outputs": [
    {
     "ename": "NameError",
     "evalue": "name 'pd' is not defined",
     "output_type": "error",
     "traceback": [
      "\u001b[0;31m---------------------------------------------------------------------------\u001b[0m",
      "\u001b[0;31mNameError\u001b[0m                                 Traceback (most recent call last)",
      "\u001b[0;32m<ipython-input-7-6611fb062642>\u001b[0m in \u001b[0;36m<module>\u001b[0;34m()\u001b[0m\n\u001b[0;32m----> 1\u001b[0;31m \u001b[0mcandle_dataframe\u001b[0m \u001b[0;34m=\u001b[0m \u001b[0mpd\u001b[0m\u001b[0;34m.\u001b[0m\u001b[0mDataFrame\u001b[0m\u001b[0;34m(\u001b[0m\u001b[0mapi_response\u001b[0m\u001b[0;34m)\u001b[0m\u001b[0;34m\u001b[0m\u001b[0;34m\u001b[0m\u001b[0m\n\u001b[0m\u001b[1;32m      2\u001b[0m \u001b[0mcandle_dataframe\u001b[0m\u001b[0;34m.\u001b[0m\u001b[0mhead\u001b[0m\u001b[0;34m(\u001b[0m\u001b[0;34m)\u001b[0m\u001b[0;34m\u001b[0m\u001b[0;34m\u001b[0m\u001b[0m\n",
      "\u001b[0;31mNameError\u001b[0m: name 'pd' is not defined"
     ]
    }
   ],
   "source": [
    "candle_dataframe = pd.DataFrame(api_response)\n",
    "candle_dataframe.head()"
   ]
  },
  {
   "cell_type": "code",
   "execution_count": 8,
   "metadata": {},
   "outputs": [
    {
     "ename": "NameError",
     "evalue": "name 'candle_dataframe' is not defined",
     "output_type": "error",
     "traceback": [
      "\u001b[0;31m---------------------------------------------------------------------------\u001b[0m",
      "\u001b[0;31mNameError\u001b[0m                                 Traceback (most recent call last)",
      "\u001b[0;32m<ipython-input-8-2586db921b40>\u001b[0m in \u001b[0;36m<module>\u001b[0;34m()\u001b[0m\n\u001b[0;32m----> 1\u001b[0;31m \u001b[0mcandle_dataframe\u001b[0m\u001b[0;34m.\u001b[0m\u001b[0mplot\u001b[0m\u001b[0;34m(\u001b[0m\u001b[0;34m)\u001b[0m\u001b[0;34m\u001b[0m\u001b[0;34m\u001b[0m\u001b[0m\n\u001b[0m",
      "\u001b[0;31mNameError\u001b[0m: name 'candle_dataframe' is not defined"
     ]
    }
   ],
   "source": [
    "candle_dataframe.plot()"
   ]
  }
 ],
 "metadata": {
  "kernelspec": {
   "display_name": "Python 3",
   "language": "python",
   "name": "python3"
  },
  "language_info": {
   "codemirror_mode": {
    "name": "ipython",
    "version": 3
   },
   "file_extension": ".py",
   "mimetype": "text/x-python",
   "name": "python",
   "nbconvert_exporter": "python",
   "pygments_lexer": "ipython3",
   "version": "3.6.9"
  }
 },
 "nbformat": 4,
 "nbformat_minor": 4
}
