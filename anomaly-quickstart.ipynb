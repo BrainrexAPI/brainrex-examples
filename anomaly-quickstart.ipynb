{
 "cells": [
  {
   "cell_type": "code",
   "execution_count": 7,
   "metadata": {},
   "outputs": [],
   "source": [
    "from __future__ import print_function\n",
    "import time\n",
    "from pprint import pprint\n",
    "import pandas as pd\n",
    "\n",
    "import brainrex\n",
    "from brainrex.rest import ApiException\n",
    "\n",
    "# Configure API key authorization: APIKeyHeader\n",
    "configuration = brainrex.Configuration()\n",
    "configuration.api_key['x-api-key'] = 'INSERT_API_KEY_HERE'\n",
    "\n",
    "# create an instance of the API class\n",
    "api_instance = brainrex.AnomalyApi(brainrex.ApiClient(configuration))"
   ]
  },
  {
   "cell_type": "code",
   "execution_count": 9,
   "metadata": {},
   "outputs": [],
   "source": [
    "# Download the examples Time Series data we provide. This dataset was extracted from the Coinbase PRO exchange using the Integrations API. \n",
    "TIME_SERIES_DATA_PATH=\"https://s3-eu-west-1.amazonaws.com/brainrex.com/data/request-data.csv\""
   ]
  },
  {
   "cell_type": "code",
   "execution_count": 8,
   "metadata": {},
   "outputs": [],
   "source": [
    "from brainrex.models import PointTimeSeries\n",
    "series = []\n",
    "data_file = pd.read_csv(TIME_SERIES_DATA_PATH, header=None, encoding='utf-8', parse_dates=[0])\n",
    "for index, row in data_file.iterrows():\n",
    "    series.append(brainrex.PointTimeSeries(timestamp=row[0], value=row[1]))"
   ]
  },
  {
   "cell_type": "code",
   "execution_count": 6,
   "metadata": {},
   "outputs": [
    {
     "name": "stdout",
     "output_type": "stream",
     "text": [
      "Exception when calling AnomalyApi->anomaly_batch: (500)\n",
      "Reason: Internal Server Error\n",
      "HTTP response headers: HTTPHeaderDict({'Date': 'Tue, 10 Dec 2019 00:39:03 GMT', 'Content-Type': 'application/problem+json', 'Transfer-Encoding': 'chunked', 'Connection': 'keep-alive', 'Set-Cookie': '__cfduid=d053c85de926299806495c09fdc5f24f71575938343; expires=Thu, 09-Jan-20 00:39:03 GMT; path=/; domain=.bitlongs.com; HttpOnly; Secure', 'x-amzn-RequestId': '5068bc75-42f8-419f-ba1b-a8631d82dcfb', 'x-amzn-Remapped-Content-Length': '251', 'x-amz-apigw-id': 'EdleKGvjPHcFc_w=', 'X-Amzn-Trace-Id': 'Root=1-5deee927-3278ce7c03b0a5fece1ec9af;Sampled=0', 'X-Cache': 'Error from cloudfront', 'Via': '1.1 759533d02225fb7e951ea4dc2b01fd49.cloudfront.net (CloudFront)', 'X-Amz-Cf-Pop': 'EWR50-C1', 'X-Amz-Cf-Id': '5AoqLFmaM2L2egRYnZ6SrUVMYd-bXn7ZnZ49KMvm5_K_tEOgMY0nMw==', 'CF-Cache-Status': 'DYNAMIC', 'Expect-CT': 'max-age=604800, report-uri=\"https://report-uri.cloudflare.com/cdn-cgi/beacon/expect-ct\"', 'Server': 'cloudflare', 'CF-RAY': '542b28d45c7af021-EWR'})\n",
      "HTTP response body: {\n",
      "  \"detail\": \"The server encountered an internal error and was unable to complete your request. Either the server is overloaded or there is an error in the application.\",\n",
      "  \"status\": 500,\n",
      "  \"title\": \"Internal Server Error\",\n",
      "  \"type\": \"about:blank\"\n",
      "}\n",
      "\n",
      "\n",
      "\n"
     ]
    }
   ],
   "source": [
    "request = brainrex.TimeSeries() # TimeSeries | Time Series to be analyzed, with the following format. (optional)\n",
    "\n",
    "try:\n",
    "    # Detects anomaly in historical data\n",
    "    api_response = api_instance.anomaly_batch(request=series)\n",
    "    pprint(api_response)\n",
    "except ApiException as e:\n",
    "    print(\"Exception when calling AnomalyApi->anomaly_batch: %s\\n\" % e)\n"
   ]
  }
 ],
 "metadata": {
  "kernelspec": {
   "display_name": "Python 3",
   "language": "python",
   "name": "python3"
  },
  "language_info": {
   "codemirror_mode": {
    "name": "ipython",
    "version": 3
   },
   "file_extension": ".py",
   "mimetype": "text/x-python",
   "name": "python",
   "nbconvert_exporter": "python",
   "pygments_lexer": "ipython3",
   "version": "3.6.9"
  }
 },
 "nbformat": 4,
 "nbformat_minor": 4
}
